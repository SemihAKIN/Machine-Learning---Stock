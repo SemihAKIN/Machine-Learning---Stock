{
 "cells": [
  {
   "cell_type": "markdown",
   "id": "b84fe51f",
   "metadata": {},
   "source": [
    "# Kütüphanelerin Yüklenmesi"
   ]
  },
  {
   "cell_type": "code",
   "execution_count": 21,
   "id": "36170f07",
   "metadata": {},
   "outputs": [],
   "source": [
    "import pandas as pd\n",
    "import numpy as np\n",
    "from matplotlib import pyplot as plt\n",
    "import seaborn as sns\n",
    "import warnings\n",
    "warnings.filterwarnings(\"ignore\")"
   ]
  },
  {
   "cell_type": "markdown",
   "id": "f5fbe546",
   "metadata": {},
   "source": [
    "# Verilerin Getirilmesi"
   ]
  },
  {
   "cell_type": "code",
   "execution_count": 22,
   "id": "9670c753",
   "metadata": {},
   "outputs": [],
   "source": [
    "columns=['BranchId','Date_','StockId','Type','Quantity','Unit','MovementType','FicheNo','FicheNoText','StockLink']\n",
    "data_2021 = pd.read_excel('csv/stock-movement-2021.xlsx')\n",
    "data_2022 = pd.read_excel('csv/stock-movement-2022.xlsx')"
   ]
  },
  {
   "cell_type": "markdown",
   "id": "292c329f",
   "metadata": {},
   "source": [
    "# Sadece Un Verilerini Alma"
   ]
  },
  {
   "cell_type": "code",
   "execution_count": 23,
   "id": "4fe8d19e",
   "metadata": {},
   "outputs": [
    {
     "name": "stdout",
     "output_type": "stream",
     "text": [
      "Orjinal Veri Uzunluğu:  146946\n",
      "Sadece Un Verisinin Uzunluğu:  4337\n"
     ]
    }
   ],
   "source": [
    "data_2021.columns = columns\n",
    "data_2022.drop(labels=['id'],axis= 1, inplace=True)\n",
    "data = pd.concat([data_2021[data_2021.StockId == 2], data_2022[data_2022.StockId == 2]], axis = 0, ignore_index=True)\n",
    "print('Orjinal Veri Uzunluğu: ', len(data_2022))\n",
    "print('Sadece Un Verisinin Uzunluğu: ',len(data))"
   ]
  },
  {
   "cell_type": "markdown",
   "id": "5b25875c",
   "metadata": {},
   "source": [
    "# Veriye Bakış"
   ]
  },
  {
   "cell_type": "code",
   "execution_count": 24,
   "id": "4082dd1b",
   "metadata": {},
   "outputs": [
    {
     "data": {
      "text/html": [
       "<div>\n",
       "<style scoped>\n",
       "    .dataframe tbody tr th:only-of-type {\n",
       "        vertical-align: middle;\n",
       "    }\n",
       "\n",
       "    .dataframe tbody tr th {\n",
       "        vertical-align: top;\n",
       "    }\n",
       "\n",
       "    .dataframe thead th {\n",
       "        text-align: right;\n",
       "    }\n",
       "</style>\n",
       "<table border=\"1\" class=\"dataframe\">\n",
       "  <thead>\n",
       "    <tr style=\"text-align: right;\">\n",
       "      <th></th>\n",
       "      <th>BranchId</th>\n",
       "      <th>Date_</th>\n",
       "      <th>StockId</th>\n",
       "      <th>Type</th>\n",
       "      <th>Quantity</th>\n",
       "      <th>Unit</th>\n",
       "      <th>MovementType</th>\n",
       "      <th>FicheNo</th>\n",
       "      <th>FicheNoText</th>\n",
       "      <th>StockLink</th>\n",
       "    </tr>\n",
       "  </thead>\n",
       "  <tbody>\n",
       "    <tr>\n",
       "      <th>0</th>\n",
       "      <td>90</td>\n",
       "      <td>2020-12-31</td>\n",
       "      <td>2</td>\n",
       "      <td>1</td>\n",
       "      <td>78850.0</td>\n",
       "      <td>KG</td>\n",
       "      <td>Devir</td>\n",
       "      <td>0</td>\n",
       "      <td>DEVIR</td>\n",
       "      <td>NaN</td>\n",
       "    </tr>\n",
       "    <tr>\n",
       "      <th>1</th>\n",
       "      <td>4</td>\n",
       "      <td>2021-06-03</td>\n",
       "      <td>2</td>\n",
       "      <td>1</td>\n",
       "      <td>30.0</td>\n",
       "      <td>KG</td>\n",
       "      <td>Iç Tedarik</td>\n",
       "      <td>0</td>\n",
       "      <td>A90000000261270</td>\n",
       "      <td>NaN</td>\n",
       "    </tr>\n",
       "    <tr>\n",
       "      <th>2</th>\n",
       "      <td>90</td>\n",
       "      <td>2021-01-15</td>\n",
       "      <td>2</td>\n",
       "      <td>1</td>\n",
       "      <td>0.0</td>\n",
       "      <td>KG</td>\n",
       "      <td>Tedarikçiden Gelen Mal</td>\n",
       "      <td>0</td>\n",
       "      <td>000000000321949</td>\n",
       "      <td>NaN</td>\n",
       "    </tr>\n",
       "    <tr>\n",
       "      <th>3</th>\n",
       "      <td>90</td>\n",
       "      <td>2021-01-15</td>\n",
       "      <td>2</td>\n",
       "      <td>1</td>\n",
       "      <td>25000.0</td>\n",
       "      <td>KG</td>\n",
       "      <td>Tedarikçiden Gelen Mal</td>\n",
       "      <td>0</td>\n",
       "      <td>TZD202100000141</td>\n",
       "      <td>NaN</td>\n",
       "    </tr>\n",
       "    <tr>\n",
       "      <th>4</th>\n",
       "      <td>90</td>\n",
       "      <td>2021-01-18</td>\n",
       "      <td>2</td>\n",
       "      <td>1</td>\n",
       "      <td>15000.0</td>\n",
       "      <td>KG</td>\n",
       "      <td>Tedarikçiden Gelen Mal</td>\n",
       "      <td>0</td>\n",
       "      <td>TZD202100000163</td>\n",
       "      <td>NaN</td>\n",
       "    </tr>\n",
       "  </tbody>\n",
       "</table>\n",
       "</div>"
      ],
      "text/plain": [
       "   BranchId       Date_  StockId  Type  Quantity Unit            MovementType  \\\n",
       "0        90  2020-12-31        2     1   78850.0   KG                   Devir   \n",
       "1         4  2021-06-03        2     1      30.0   KG              Iç Tedarik   \n",
       "2        90  2021-01-15        2     1       0.0   KG  Tedarikçiden Gelen Mal   \n",
       "3        90  2021-01-15        2     1   25000.0   KG  Tedarikçiden Gelen Mal   \n",
       "4        90  2021-01-18        2     1   15000.0   KG  Tedarikçiden Gelen Mal   \n",
       "\n",
       "   FicheNo      FicheNoText StockLink  \n",
       "0        0            DEVIR       NaN  \n",
       "1        0  A90000000261270       NaN  \n",
       "2        0  000000000321949       NaN  \n",
       "3        0  TZD202100000141       NaN  \n",
       "4        0  TZD202100000163       NaN  "
      ]
     },
     "execution_count": 24,
     "metadata": {},
     "output_type": "execute_result"
    }
   ],
   "source": [
    "data.head()"
   ]
  },
  {
   "cell_type": "code",
   "execution_count": 25,
   "id": "31cacbca",
   "metadata": {
    "scrolled": true
   },
   "outputs": [
    {
     "name": "stdout",
     "output_type": "stream",
     "text": [
      "<class 'pandas.core.frame.DataFrame'>\n",
      "RangeIndex: 4337 entries, 0 to 4336\n",
      "Data columns (total 10 columns):\n",
      " #   Column        Non-Null Count  Dtype  \n",
      "---  ------        --------------  -----  \n",
      " 0   BranchId      4337 non-null   int64  \n",
      " 1   Date_         4337 non-null   object \n",
      " 2   StockId       4337 non-null   int64  \n",
      " 3   Type          4337 non-null   int64  \n",
      " 4   Quantity      4337 non-null   float64\n",
      " 5   Unit          4337 non-null   object \n",
      " 6   MovementType  4337 non-null   object \n",
      " 7   FicheNo       4337 non-null   int64  \n",
      " 8   FicheNoText   4337 non-null   object \n",
      " 9   StockLink     4032 non-null   object \n",
      "dtypes: float64(1), int64(4), object(5)\n",
      "memory usage: 339.0+ KB\n"
     ]
    }
   ],
   "source": [
    "data.info()"
   ]
  },
  {
   "cell_type": "code",
   "execution_count": 26,
   "id": "bb7888ea",
   "metadata": {},
   "outputs": [
    {
     "data": {
      "text/html": [
       "<div>\n",
       "<style scoped>\n",
       "    .dataframe tbody tr th:only-of-type {\n",
       "        vertical-align: middle;\n",
       "    }\n",
       "\n",
       "    .dataframe tbody tr th {\n",
       "        vertical-align: top;\n",
       "    }\n",
       "\n",
       "    .dataframe thead th {\n",
       "        text-align: right;\n",
       "    }\n",
       "</style>\n",
       "<table border=\"1\" class=\"dataframe\">\n",
       "  <thead>\n",
       "    <tr style=\"text-align: right;\">\n",
       "      <th></th>\n",
       "      <th>count</th>\n",
       "      <th>mean</th>\n",
       "      <th>std</th>\n",
       "      <th>min</th>\n",
       "      <th>25%</th>\n",
       "      <th>50%</th>\n",
       "      <th>75%</th>\n",
       "      <th>max</th>\n",
       "    </tr>\n",
       "  </thead>\n",
       "  <tbody>\n",
       "    <tr>\n",
       "      <th>BranchId</th>\n",
       "      <td>4337.0</td>\n",
       "      <td>38.949504</td>\n",
       "      <td>43.174039</td>\n",
       "      <td>0.0</td>\n",
       "      <td>2.00</td>\n",
       "      <td>4.000</td>\n",
       "      <td>90.0</td>\n",
       "      <td>90.0</td>\n",
       "    </tr>\n",
       "    <tr>\n",
       "      <th>StockId</th>\n",
       "      <td>4337.0</td>\n",
       "      <td>2.000000</td>\n",
       "      <td>0.000000</td>\n",
       "      <td>2.0</td>\n",
       "      <td>2.00</td>\n",
       "      <td>2.000</td>\n",
       "      <td>2.0</td>\n",
       "      <td>2.0</td>\n",
       "    </tr>\n",
       "    <tr>\n",
       "      <th>Type</th>\n",
       "      <td>4337.0</td>\n",
       "      <td>-0.859811</td>\n",
       "      <td>0.510671</td>\n",
       "      <td>-1.0</td>\n",
       "      <td>-1.00</td>\n",
       "      <td>-1.000</td>\n",
       "      <td>-1.0</td>\n",
       "      <td>1.0</td>\n",
       "    </tr>\n",
       "    <tr>\n",
       "      <th>Quantity</th>\n",
       "      <td>4337.0</td>\n",
       "      <td>2183.478755</td>\n",
       "      <td>5545.352897</td>\n",
       "      <td>0.0</td>\n",
       "      <td>0.76</td>\n",
       "      <td>29.746</td>\n",
       "      <td>2350.0</td>\n",
       "      <td>96840.0</td>\n",
       "    </tr>\n",
       "    <tr>\n",
       "      <th>FicheNo</th>\n",
       "      <td>4337.0</td>\n",
       "      <td>0.000000</td>\n",
       "      <td>0.000000</td>\n",
       "      <td>0.0</td>\n",
       "      <td>0.00</td>\n",
       "      <td>0.000</td>\n",
       "      <td>0.0</td>\n",
       "      <td>0.0</td>\n",
       "    </tr>\n",
       "  </tbody>\n",
       "</table>\n",
       "</div>"
      ],
      "text/plain": [
       "           count         mean          std  min   25%     50%     75%      max\n",
       "BranchId  4337.0    38.949504    43.174039  0.0  2.00   4.000    90.0     90.0\n",
       "StockId   4337.0     2.000000     0.000000  2.0  2.00   2.000     2.0      2.0\n",
       "Type      4337.0    -0.859811     0.510671 -1.0 -1.00  -1.000    -1.0      1.0\n",
       "Quantity  4337.0  2183.478755  5545.352897  0.0  0.76  29.746  2350.0  96840.0\n",
       "FicheNo   4337.0     0.000000     0.000000  0.0  0.00   0.000     0.0      0.0"
      ]
     },
     "execution_count": 26,
     "metadata": {},
     "output_type": "execute_result"
    }
   ],
   "source": [
    "data.describe().T"
   ]
  },
  {
   "cell_type": "code",
   "execution_count": 27,
   "id": "0fe29b49",
   "metadata": {},
   "outputs": [
    {
     "data": {
      "text/html": [
       "<div>\n",
       "<style scoped>\n",
       "    .dataframe tbody tr th:only-of-type {\n",
       "        vertical-align: middle;\n",
       "    }\n",
       "\n",
       "    .dataframe tbody tr th {\n",
       "        vertical-align: top;\n",
       "    }\n",
       "\n",
       "    .dataframe thead th {\n",
       "        text-align: right;\n",
       "    }\n",
       "</style>\n",
       "<table border=\"1\" class=\"dataframe\">\n",
       "  <thead>\n",
       "    <tr style=\"text-align: right;\">\n",
       "      <th></th>\n",
       "      <th>BranchId</th>\n",
       "      <th>StockId</th>\n",
       "      <th>Type</th>\n",
       "      <th>Quantity</th>\n",
       "      <th>FicheNo</th>\n",
       "    </tr>\n",
       "  </thead>\n",
       "  <tbody>\n",
       "    <tr>\n",
       "      <th>BranchId</th>\n",
       "      <td>1.000000</td>\n",
       "      <td>NaN</td>\n",
       "      <td>0.322877</td>\n",
       "      <td>0.460771</td>\n",
       "      <td>NaN</td>\n",
       "    </tr>\n",
       "    <tr>\n",
       "      <th>StockId</th>\n",
       "      <td>NaN</td>\n",
       "      <td>NaN</td>\n",
       "      <td>NaN</td>\n",
       "      <td>NaN</td>\n",
       "      <td>NaN</td>\n",
       "    </tr>\n",
       "    <tr>\n",
       "      <th>Type</th>\n",
       "      <td>0.322877</td>\n",
       "      <td>NaN</td>\n",
       "      <td>1.000000</td>\n",
       "      <td>0.695384</td>\n",
       "      <td>NaN</td>\n",
       "    </tr>\n",
       "    <tr>\n",
       "      <th>Quantity</th>\n",
       "      <td>0.460771</td>\n",
       "      <td>NaN</td>\n",
       "      <td>0.695384</td>\n",
       "      <td>1.000000</td>\n",
       "      <td>NaN</td>\n",
       "    </tr>\n",
       "    <tr>\n",
       "      <th>FicheNo</th>\n",
       "      <td>NaN</td>\n",
       "      <td>NaN</td>\n",
       "      <td>NaN</td>\n",
       "      <td>NaN</td>\n",
       "      <td>NaN</td>\n",
       "    </tr>\n",
       "  </tbody>\n",
       "</table>\n",
       "</div>"
      ],
      "text/plain": [
       "          BranchId  StockId      Type  Quantity  FicheNo\n",
       "BranchId  1.000000      NaN  0.322877  0.460771      NaN\n",
       "StockId        NaN      NaN       NaN       NaN      NaN\n",
       "Type      0.322877      NaN  1.000000  0.695384      NaN\n",
       "Quantity  0.460771      NaN  0.695384  1.000000      NaN\n",
       "FicheNo        NaN      NaN       NaN       NaN      NaN"
      ]
     },
     "execution_count": 27,
     "metadata": {},
     "output_type": "execute_result"
    }
   ],
   "source": [
    "data.corr()"
   ]
  },
  {
   "cell_type": "code",
   "execution_count": 28,
   "id": "c0ea09d5",
   "metadata": {},
   "outputs": [
    {
     "data": {
      "text/plain": [
       "MovementType\n",
       "Devir                      272530.000\n",
       "Gönderilen Mal                 30.000\n",
       "Iade                            1.000\n",
       "Iç Tedarik                     30.000\n",
       "Tedarikçiden Gelen Mal    4660500.000\n",
       "Üretime Giden Mal         4536656.361\n",
       "Name: Quantity, dtype: float64"
      ]
     },
     "execution_count": 28,
     "metadata": {},
     "output_type": "execute_result"
    }
   ],
   "source": [
    "data.groupby(['MovementType'])['Quantity'].sum()"
   ]
  },
  {
   "cell_type": "markdown",
   "id": "ef3c9cb4",
   "metadata": {},
   "source": [
    "## Gereksiz kolonların düşürülmesi"
   ]
  },
  {
   "cell_type": "code",
   "execution_count": 29,
   "id": "ad763ed1",
   "metadata": {},
   "outputs": [],
   "source": [
    "data.drop(labels=['Unit','FicheNo','StockId'], axis = 1, inplace = True)"
   ]
  },
  {
   "cell_type": "code",
   "execution_count": 30,
   "id": "0ad80db9",
   "metadata": {},
   "outputs": [
    {
     "data": {
      "text/html": [
       "<div>\n",
       "<style scoped>\n",
       "    .dataframe tbody tr th:only-of-type {\n",
       "        vertical-align: middle;\n",
       "    }\n",
       "\n",
       "    .dataframe tbody tr th {\n",
       "        vertical-align: top;\n",
       "    }\n",
       "\n",
       "    .dataframe thead th {\n",
       "        text-align: right;\n",
       "    }\n",
       "</style>\n",
       "<table border=\"1\" class=\"dataframe\">\n",
       "  <thead>\n",
       "    <tr style=\"text-align: right;\">\n",
       "      <th></th>\n",
       "      <th>BranchId</th>\n",
       "      <th>Date_</th>\n",
       "      <th>Type</th>\n",
       "      <th>Quantity</th>\n",
       "      <th>MovementType</th>\n",
       "      <th>FicheNoText</th>\n",
       "      <th>StockLink</th>\n",
       "    </tr>\n",
       "  </thead>\n",
       "  <tbody>\n",
       "    <tr>\n",
       "      <th>0</th>\n",
       "      <td>90</td>\n",
       "      <td>2020-12-31</td>\n",
       "      <td>1</td>\n",
       "      <td>78850.0</td>\n",
       "      <td>Devir</td>\n",
       "      <td>DEVIR</td>\n",
       "      <td>NaN</td>\n",
       "    </tr>\n",
       "    <tr>\n",
       "      <th>1</th>\n",
       "      <td>4</td>\n",
       "      <td>2021-06-03</td>\n",
       "      <td>1</td>\n",
       "      <td>30.0</td>\n",
       "      <td>Iç Tedarik</td>\n",
       "      <td>A90000000261270</td>\n",
       "      <td>NaN</td>\n",
       "    </tr>\n",
       "    <tr>\n",
       "      <th>2</th>\n",
       "      <td>90</td>\n",
       "      <td>2021-01-15</td>\n",
       "      <td>1</td>\n",
       "      <td>0.0</td>\n",
       "      <td>Tedarikçiden Gelen Mal</td>\n",
       "      <td>000000000321949</td>\n",
       "      <td>NaN</td>\n",
       "    </tr>\n",
       "    <tr>\n",
       "      <th>3</th>\n",
       "      <td>90</td>\n",
       "      <td>2021-01-15</td>\n",
       "      <td>1</td>\n",
       "      <td>25000.0</td>\n",
       "      <td>Tedarikçiden Gelen Mal</td>\n",
       "      <td>TZD202100000141</td>\n",
       "      <td>NaN</td>\n",
       "    </tr>\n",
       "    <tr>\n",
       "      <th>4</th>\n",
       "      <td>90</td>\n",
       "      <td>2021-01-18</td>\n",
       "      <td>1</td>\n",
       "      <td>15000.0</td>\n",
       "      <td>Tedarikçiden Gelen Mal</td>\n",
       "      <td>TZD202100000163</td>\n",
       "      <td>NaN</td>\n",
       "    </tr>\n",
       "  </tbody>\n",
       "</table>\n",
       "</div>"
      ],
      "text/plain": [
       "   BranchId       Date_  Type  Quantity            MovementType  \\\n",
       "0        90  2020-12-31     1   78850.0                   Devir   \n",
       "1         4  2021-06-03     1      30.0              Iç Tedarik   \n",
       "2        90  2021-01-15     1       0.0  Tedarikçiden Gelen Mal   \n",
       "3        90  2021-01-15     1   25000.0  Tedarikçiden Gelen Mal   \n",
       "4        90  2021-01-18     1   15000.0  Tedarikçiden Gelen Mal   \n",
       "\n",
       "       FicheNoText StockLink  \n",
       "0            DEVIR       NaN  \n",
       "1  A90000000261270       NaN  \n",
       "2  000000000321949       NaN  \n",
       "3  TZD202100000141       NaN  \n",
       "4  TZD202100000163       NaN  "
      ]
     },
     "execution_count": 30,
     "metadata": {},
     "output_type": "execute_result"
    }
   ],
   "source": [
    "data.head()"
   ]
  },
  {
   "cell_type": "code",
   "execution_count": 31,
   "id": "bbad1228",
   "metadata": {},
   "outputs": [],
   "source": [
    "# dates Beginning 2020-12-31\n",
    "data['Date_'] = pd.to_datetime(data['Date_'].astype('str'), infer_datetime_format = True)\n",
    "data['day_of_year'] = data['Date_'].dt.dayofyear\n",
    "data['day_of_year'] = pd.DataFrame(data['day_of_year'])\n",
    "data['day_numbers'] = (data['Date_'] - min(data['Date_'])).dt.days\n",
    "data['day_of_year'] = data['day_of_year'].replace([366],[0])"
   ]
  },
  {
   "cell_type": "code",
   "execution_count": 32,
   "id": "3f8a1256",
   "metadata": {},
   "outputs": [
    {
     "data": {
      "text/html": [
       "<div>\n",
       "<style scoped>\n",
       "    .dataframe tbody tr th:only-of-type {\n",
       "        vertical-align: middle;\n",
       "    }\n",
       "\n",
       "    .dataframe tbody tr th {\n",
       "        vertical-align: top;\n",
       "    }\n",
       "\n",
       "    .dataframe thead th {\n",
       "        text-align: right;\n",
       "    }\n",
       "</style>\n",
       "<table border=\"1\" class=\"dataframe\">\n",
       "  <thead>\n",
       "    <tr style=\"text-align: right;\">\n",
       "      <th></th>\n",
       "      <th>BranchId</th>\n",
       "      <th>Date_</th>\n",
       "      <th>Type</th>\n",
       "      <th>Quantity</th>\n",
       "      <th>MovementType</th>\n",
       "      <th>FicheNoText</th>\n",
       "      <th>StockLink</th>\n",
       "      <th>day_of_year</th>\n",
       "      <th>day_numbers</th>\n",
       "    </tr>\n",
       "  </thead>\n",
       "  <tbody>\n",
       "    <tr>\n",
       "      <th>0</th>\n",
       "      <td>90</td>\n",
       "      <td>2020-12-31</td>\n",
       "      <td>1</td>\n",
       "      <td>78850.0</td>\n",
       "      <td>Devir</td>\n",
       "      <td>DEVIR</td>\n",
       "      <td>NaN</td>\n",
       "      <td>0</td>\n",
       "      <td>0</td>\n",
       "    </tr>\n",
       "    <tr>\n",
       "      <th>1</th>\n",
       "      <td>4</td>\n",
       "      <td>2021-06-03</td>\n",
       "      <td>1</td>\n",
       "      <td>30.0</td>\n",
       "      <td>Iç Tedarik</td>\n",
       "      <td>A90000000261270</td>\n",
       "      <td>NaN</td>\n",
       "      <td>154</td>\n",
       "      <td>154</td>\n",
       "    </tr>\n",
       "    <tr>\n",
       "      <th>2</th>\n",
       "      <td>90</td>\n",
       "      <td>2021-01-15</td>\n",
       "      <td>1</td>\n",
       "      <td>0.0</td>\n",
       "      <td>Tedarikçiden Gelen Mal</td>\n",
       "      <td>000000000321949</td>\n",
       "      <td>NaN</td>\n",
       "      <td>15</td>\n",
       "      <td>15</td>\n",
       "    </tr>\n",
       "    <tr>\n",
       "      <th>3</th>\n",
       "      <td>90</td>\n",
       "      <td>2021-01-15</td>\n",
       "      <td>1</td>\n",
       "      <td>25000.0</td>\n",
       "      <td>Tedarikçiden Gelen Mal</td>\n",
       "      <td>TZD202100000141</td>\n",
       "      <td>NaN</td>\n",
       "      <td>15</td>\n",
       "      <td>15</td>\n",
       "    </tr>\n",
       "    <tr>\n",
       "      <th>4</th>\n",
       "      <td>90</td>\n",
       "      <td>2021-01-18</td>\n",
       "      <td>1</td>\n",
       "      <td>15000.0</td>\n",
       "      <td>Tedarikçiden Gelen Mal</td>\n",
       "      <td>TZD202100000163</td>\n",
       "      <td>NaN</td>\n",
       "      <td>18</td>\n",
       "      <td>18</td>\n",
       "    </tr>\n",
       "  </tbody>\n",
       "</table>\n",
       "</div>"
      ],
      "text/plain": [
       "   BranchId      Date_  Type  Quantity            MovementType  \\\n",
       "0        90 2020-12-31     1   78850.0                   Devir   \n",
       "1         4 2021-06-03     1      30.0              Iç Tedarik   \n",
       "2        90 2021-01-15     1       0.0  Tedarikçiden Gelen Mal   \n",
       "3        90 2021-01-15     1   25000.0  Tedarikçiden Gelen Mal   \n",
       "4        90 2021-01-18     1   15000.0  Tedarikçiden Gelen Mal   \n",
       "\n",
       "       FicheNoText StockLink  day_of_year  day_numbers  \n",
       "0            DEVIR       NaN            0            0  \n",
       "1  A90000000261270       NaN          154          154  \n",
       "2  000000000321949       NaN           15           15  \n",
       "3  TZD202100000141       NaN           15           15  \n",
       "4  TZD202100000163       NaN           18           18  "
      ]
     },
     "execution_count": 32,
     "metadata": {},
     "output_type": "execute_result"
    }
   ],
   "source": [
    "data.head()"
   ]
  },
  {
   "cell_type": "markdown",
   "id": "80b99a1d",
   "metadata": {},
   "source": [
    "## Features Engineering"
   ]
  },
  {
   "cell_type": "code",
   "execution_count": 33,
   "id": "a0d673f7",
   "metadata": {},
   "outputs": [],
   "source": [
    "data['month'] = data['Date_'].dt.month\n",
    "data['day_of_month'] = data['Date_'].dt.day\n",
    "data['week_of_year'] = data['Date_'].dt.weekofyear\n",
    "data['day_of_week'] = data['Date_'].dt.dayofweek\n",
    "data[\"is_wknd\"] = data['Date_'].dt.weekday // 5\n",
    "# Aşağıdaki özellikleri OLS raporunda p değeri 0.05 in üstünde çıktığı için koymamayı tercih ettim.\n",
    "#data['is_month_start'] = data['Date_'].dt.is_month_start.astype(int)\n",
    "#data['is_month_end'] = data['Date_'].dt.is_month_end.astype(int)"
   ]
  },
  {
   "cell_type": "code",
   "execution_count": 34,
   "id": "bcf97853",
   "metadata": {},
   "outputs": [],
   "source": [
    "data.drop(labels=['Date_'], axis = 1, inplace = True)"
   ]
  },
  {
   "cell_type": "code",
   "execution_count": 35,
   "id": "f4654ca1",
   "metadata": {},
   "outputs": [
    {
     "data": {
      "text/html": [
       "<div>\n",
       "<style scoped>\n",
       "    .dataframe tbody tr th:only-of-type {\n",
       "        vertical-align: middle;\n",
       "    }\n",
       "\n",
       "    .dataframe tbody tr th {\n",
       "        vertical-align: top;\n",
       "    }\n",
       "\n",
       "    .dataframe thead th {\n",
       "        text-align: right;\n",
       "    }\n",
       "</style>\n",
       "<table border=\"1\" class=\"dataframe\">\n",
       "  <thead>\n",
       "    <tr style=\"text-align: right;\">\n",
       "      <th></th>\n",
       "      <th>BranchId</th>\n",
       "      <th>Type</th>\n",
       "      <th>Quantity</th>\n",
       "      <th>MovementType</th>\n",
       "      <th>FicheNoText</th>\n",
       "      <th>StockLink</th>\n",
       "      <th>day_of_year</th>\n",
       "      <th>day_numbers</th>\n",
       "      <th>month</th>\n",
       "      <th>day_of_month</th>\n",
       "      <th>week_of_year</th>\n",
       "      <th>day_of_week</th>\n",
       "      <th>is_wknd</th>\n",
       "    </tr>\n",
       "  </thead>\n",
       "  <tbody>\n",
       "    <tr>\n",
       "      <th>0</th>\n",
       "      <td>90</td>\n",
       "      <td>1</td>\n",
       "      <td>78850.0</td>\n",
       "      <td>Devir</td>\n",
       "      <td>DEVIR</td>\n",
       "      <td>NaN</td>\n",
       "      <td>0</td>\n",
       "      <td>0</td>\n",
       "      <td>12</td>\n",
       "      <td>31</td>\n",
       "      <td>53</td>\n",
       "      <td>3</td>\n",
       "      <td>0</td>\n",
       "    </tr>\n",
       "    <tr>\n",
       "      <th>1</th>\n",
       "      <td>4</td>\n",
       "      <td>1</td>\n",
       "      <td>30.0</td>\n",
       "      <td>Iç Tedarik</td>\n",
       "      <td>A90000000261270</td>\n",
       "      <td>NaN</td>\n",
       "      <td>154</td>\n",
       "      <td>154</td>\n",
       "      <td>6</td>\n",
       "      <td>3</td>\n",
       "      <td>22</td>\n",
       "      <td>3</td>\n",
       "      <td>0</td>\n",
       "    </tr>\n",
       "    <tr>\n",
       "      <th>2</th>\n",
       "      <td>90</td>\n",
       "      <td>1</td>\n",
       "      <td>0.0</td>\n",
       "      <td>Tedarikçiden Gelen Mal</td>\n",
       "      <td>000000000321949</td>\n",
       "      <td>NaN</td>\n",
       "      <td>15</td>\n",
       "      <td>15</td>\n",
       "      <td>1</td>\n",
       "      <td>15</td>\n",
       "      <td>2</td>\n",
       "      <td>4</td>\n",
       "      <td>0</td>\n",
       "    </tr>\n",
       "    <tr>\n",
       "      <th>3</th>\n",
       "      <td>90</td>\n",
       "      <td>1</td>\n",
       "      <td>25000.0</td>\n",
       "      <td>Tedarikçiden Gelen Mal</td>\n",
       "      <td>TZD202100000141</td>\n",
       "      <td>NaN</td>\n",
       "      <td>15</td>\n",
       "      <td>15</td>\n",
       "      <td>1</td>\n",
       "      <td>15</td>\n",
       "      <td>2</td>\n",
       "      <td>4</td>\n",
       "      <td>0</td>\n",
       "    </tr>\n",
       "    <tr>\n",
       "      <th>4</th>\n",
       "      <td>90</td>\n",
       "      <td>1</td>\n",
       "      <td>15000.0</td>\n",
       "      <td>Tedarikçiden Gelen Mal</td>\n",
       "      <td>TZD202100000163</td>\n",
       "      <td>NaN</td>\n",
       "      <td>18</td>\n",
       "      <td>18</td>\n",
       "      <td>1</td>\n",
       "      <td>18</td>\n",
       "      <td>3</td>\n",
       "      <td>0</td>\n",
       "      <td>0</td>\n",
       "    </tr>\n",
       "  </tbody>\n",
       "</table>\n",
       "</div>"
      ],
      "text/plain": [
       "   BranchId  Type  Quantity            MovementType      FicheNoText  \\\n",
       "0        90     1   78850.0                   Devir            DEVIR   \n",
       "1         4     1      30.0              Iç Tedarik  A90000000261270   \n",
       "2        90     1       0.0  Tedarikçiden Gelen Mal  000000000321949   \n",
       "3        90     1   25000.0  Tedarikçiden Gelen Mal  TZD202100000141   \n",
       "4        90     1   15000.0  Tedarikçiden Gelen Mal  TZD202100000163   \n",
       "\n",
       "  StockLink  day_of_year  day_numbers  month  day_of_month  week_of_year  \\\n",
       "0       NaN            0            0     12            31            53   \n",
       "1       NaN          154          154      6             3            22   \n",
       "2       NaN           15           15      1            15             2   \n",
       "3       NaN           15           15      1            15             2   \n",
       "4       NaN           18           18      1            18             3   \n",
       "\n",
       "   day_of_week  is_wknd  \n",
       "0            3        0  \n",
       "1            3        0  \n",
       "2            4        0  \n",
       "3            4        0  \n",
       "4            0        0  "
      ]
     },
     "execution_count": 35,
     "metadata": {},
     "output_type": "execute_result"
    }
   ],
   "source": [
    "data.head()"
   ]
  },
  {
   "cell_type": "code",
   "execution_count": 36,
   "id": "d3ddc754",
   "metadata": {
    "scrolled": true
   },
   "outputs": [
    {
     "data": {
      "text/html": [
       "<div>\n",
       "<style scoped>\n",
       "    .dataframe tbody tr th:only-of-type {\n",
       "        vertical-align: middle;\n",
       "    }\n",
       "\n",
       "    .dataframe tbody tr th {\n",
       "        vertical-align: top;\n",
       "    }\n",
       "\n",
       "    .dataframe thead th {\n",
       "        text-align: right;\n",
       "    }\n",
       "</style>\n",
       "<table border=\"1\" class=\"dataframe\">\n",
       "  <thead>\n",
       "    <tr style=\"text-align: right;\">\n",
       "      <th></th>\n",
       "      <th>count</th>\n",
       "      <th>mean</th>\n",
       "      <th>std</th>\n",
       "      <th>min</th>\n",
       "      <th>25%</th>\n",
       "      <th>50%</th>\n",
       "      <th>75%</th>\n",
       "      <th>max</th>\n",
       "    </tr>\n",
       "  </thead>\n",
       "  <tbody>\n",
       "    <tr>\n",
       "      <th>BranchId</th>\n",
       "      <td>4337.0</td>\n",
       "      <td>38.949504</td>\n",
       "      <td>43.174039</td>\n",
       "      <td>0.0</td>\n",
       "      <td>2.00</td>\n",
       "      <td>4.000</td>\n",
       "      <td>90.0</td>\n",
       "      <td>90.0</td>\n",
       "    </tr>\n",
       "    <tr>\n",
       "      <th>Type</th>\n",
       "      <td>4337.0</td>\n",
       "      <td>-0.859811</td>\n",
       "      <td>0.510671</td>\n",
       "      <td>-1.0</td>\n",
       "      <td>-1.00</td>\n",
       "      <td>-1.000</td>\n",
       "      <td>-1.0</td>\n",
       "      <td>1.0</td>\n",
       "    </tr>\n",
       "    <tr>\n",
       "      <th>Quantity</th>\n",
       "      <td>4337.0</td>\n",
       "      <td>2183.478755</td>\n",
       "      <td>5545.352897</td>\n",
       "      <td>0.0</td>\n",
       "      <td>0.76</td>\n",
       "      <td>29.746</td>\n",
       "      <td>2350.0</td>\n",
       "      <td>96840.0</td>\n",
       "    </tr>\n",
       "    <tr>\n",
       "      <th>day_of_year</th>\n",
       "      <td>4337.0</td>\n",
       "      <td>169.998617</td>\n",
       "      <td>102.195132</td>\n",
       "      <td>0.0</td>\n",
       "      <td>90.00</td>\n",
       "      <td>155.000</td>\n",
       "      <td>263.0</td>\n",
       "      <td>365.0</td>\n",
       "    </tr>\n",
       "    <tr>\n",
       "      <th>day_numbers</th>\n",
       "      <td>4337.0</td>\n",
       "      <td>340.842518</td>\n",
       "      <td>150.461148</td>\n",
       "      <td>0.0</td>\n",
       "      <td>244.00</td>\n",
       "      <td>352.000</td>\n",
       "      <td>460.0</td>\n",
       "      <td>588.0</td>\n",
       "    </tr>\n",
       "    <tr>\n",
       "      <th>month</th>\n",
       "      <td>4337.0</td>\n",
       "      <td>5.921605</td>\n",
       "      <td>3.394745</td>\n",
       "      <td>1.0</td>\n",
       "      <td>3.00</td>\n",
       "      <td>6.000</td>\n",
       "      <td>9.0</td>\n",
       "      <td>12.0</td>\n",
       "    </tr>\n",
       "    <tr>\n",
       "      <th>day_of_month</th>\n",
       "      <td>4337.0</td>\n",
       "      <td>21.206825</td>\n",
       "      <td>9.704935</td>\n",
       "      <td>1.0</td>\n",
       "      <td>13.00</td>\n",
       "      <td>24.000</td>\n",
       "      <td>30.0</td>\n",
       "      <td>31.0</td>\n",
       "    </tr>\n",
       "    <tr>\n",
       "      <th>week_of_year</th>\n",
       "      <td>4337.0</td>\n",
       "      <td>24.460918</td>\n",
       "      <td>14.562323</td>\n",
       "      <td>1.0</td>\n",
       "      <td>13.00</td>\n",
       "      <td>22.000</td>\n",
       "      <td>38.0</td>\n",
       "      <td>53.0</td>\n",
       "    </tr>\n",
       "    <tr>\n",
       "      <th>day_of_week</th>\n",
       "      <td>4337.0</td>\n",
       "      <td>2.582430</td>\n",
       "      <td>1.846058</td>\n",
       "      <td>0.0</td>\n",
       "      <td>1.00</td>\n",
       "      <td>3.000</td>\n",
       "      <td>4.0</td>\n",
       "      <td>6.0</td>\n",
       "    </tr>\n",
       "    <tr>\n",
       "      <th>is_wknd</th>\n",
       "      <td>4337.0</td>\n",
       "      <td>0.176620</td>\n",
       "      <td>0.381391</td>\n",
       "      <td>0.0</td>\n",
       "      <td>0.00</td>\n",
       "      <td>0.000</td>\n",
       "      <td>0.0</td>\n",
       "      <td>1.0</td>\n",
       "    </tr>\n",
       "  </tbody>\n",
       "</table>\n",
       "</div>"
      ],
      "text/plain": [
       "               count         mean          std  min     25%      50%     75%  \\\n",
       "BranchId      4337.0    38.949504    43.174039  0.0    2.00    4.000    90.0   \n",
       "Type          4337.0    -0.859811     0.510671 -1.0   -1.00   -1.000    -1.0   \n",
       "Quantity      4337.0  2183.478755  5545.352897  0.0    0.76   29.746  2350.0   \n",
       "day_of_year   4337.0   169.998617   102.195132  0.0   90.00  155.000   263.0   \n",
       "day_numbers   4337.0   340.842518   150.461148  0.0  244.00  352.000   460.0   \n",
       "month         4337.0     5.921605     3.394745  1.0    3.00    6.000     9.0   \n",
       "day_of_month  4337.0    21.206825     9.704935  1.0   13.00   24.000    30.0   \n",
       "week_of_year  4337.0    24.460918    14.562323  1.0   13.00   22.000    38.0   \n",
       "day_of_week   4337.0     2.582430     1.846058  0.0    1.00    3.000     4.0   \n",
       "is_wknd       4337.0     0.176620     0.381391  0.0    0.00    0.000     0.0   \n",
       "\n",
       "                  max  \n",
       "BranchId         90.0  \n",
       "Type              1.0  \n",
       "Quantity      96840.0  \n",
       "day_of_year     365.0  \n",
       "day_numbers     588.0  \n",
       "month            12.0  \n",
       "day_of_month     31.0  \n",
       "week_of_year     53.0  \n",
       "day_of_week       6.0  \n",
       "is_wknd           1.0  "
      ]
     },
     "execution_count": 36,
     "metadata": {},
     "output_type": "execute_result"
    }
   ],
   "source": [
    "data.describe().T"
   ]
  },
  {
   "cell_type": "code",
   "execution_count": 37,
   "id": "05190748",
   "metadata": {
    "scrolled": true
   },
   "outputs": [
    {
     "name": "stdout",
     "output_type": "stream",
     "text": [
      "   BranchId  Type  Quantity            MovementType      FicheNoText  \\\n",
      "0        90     1   78850.0                   Devir            DEVIR   \n",
      "1         4     1      30.0              Iç Tedarik  A90000000261270   \n",
      "2        90     1       0.0  Tedarikçiden Gelen Mal  000000000321949   \n",
      "3        90     1   25000.0  Tedarikçiden Gelen Mal  TZD202100000141   \n",
      "4        90     1   15000.0  Tedarikçiden Gelen Mal  TZD202100000163   \n",
      "\n",
      "  StockLink  day_of_year  day_numbers  month  day_of_month  week_of_year  \\\n",
      "0       NaN            0            0     12            31            53   \n",
      "1       NaN          154          154      6             3            22   \n",
      "2       NaN           15           15      1            15             2   \n",
      "3       NaN           15           15      1            15             2   \n",
      "4       NaN           18           18      1            18             3   \n",
      "\n",
      "   day_of_week  is_wknd  \n",
      "0            3        0  \n",
      "1            3        0  \n",
      "2            4        0  \n",
      "3            4        0  \n",
      "4            0        0  \n"
     ]
    }
   ],
   "source": [
    "ilk_devir = data.iloc[[0]]\n",
    "devirsiz = data[data['MovementType']!= 'Devir']\n",
    "data = pd.concat([ilk_devir, devirsiz], axis = 0)\n",
    "print(data.head())"
   ]
  },
  {
   "cell_type": "markdown",
   "id": "505cf540",
   "metadata": {},
   "source": [
    "## Önemli Not"
   ]
  },
  {
   "cell_type": "markdown",
   "id": "38ea1542",
   "metadata": {},
   "source": [
    "Veride 480. gününde çok fazla alış oluyor. Bunun sebebi ise 480. gün (25 Nisan 2022) bir hafta un zammının ertelendiği haberi. Zamdan önce bir haftadan kısa sürede 200 ton un girmiş. Bu da son 15 ayın toplam stoğuna eşdeğer.\n",
    "\n",
    "Aşağıdaki satırı incelemek için çalıştırdım."
   ]
  },
  {
   "cell_type": "code",
   "execution_count": 38,
   "id": "64d30e66",
   "metadata": {},
   "outputs": [],
   "source": [
    "#data = data[data['day_numbers'] <= 479]"
   ]
  },
  {
   "cell_type": "code",
   "execution_count": 39,
   "id": "f71007dc",
   "metadata": {},
   "outputs": [
    {
     "data": {
      "text/plain": [
       "Index(['BranchId', 'Type', 'Quantity', 'MovementType', 'FicheNoText',\n",
       "       'StockLink', 'day_of_year', 'day_numbers', 'month', 'day_of_month',\n",
       "       'week_of_year', 'day_of_week', 'is_wknd'],\n",
       "      dtype='object')"
      ]
     },
     "execution_count": 39,
     "metadata": {},
     "output_type": "execute_result"
    }
   ],
   "source": [
    "data.columns"
   ]
  },
  {
   "cell_type": "markdown",
   "id": "13fbdc99",
   "metadata": {},
   "source": [
    "# Günlük Toplam Un Verileri"
   ]
  },
  {
   "cell_type": "code",
   "execution_count": 40,
   "id": "5806f7a3",
   "metadata": {},
   "outputs": [
    {
     "name": "stdout",
     "output_type": "stream",
     "text": [
      "0  is  78850.0\n",
      "2  is  -4750.0\n",
      "3  is  -100.0\n",
      "4  is  -6250.0\n",
      "5  is  -5850.0\n",
      "6  is  -5750.0\n",
      "7  is  -5550.0\n",
      "8  is  -6350.0\n",
      "9  is  -4250.0\n",
      "10  is  -250.0\n",
      "11  is  -5900.0\n",
      "12  is  -5400.0\n",
      "13  is  -5200.0\n",
      "14  is  -5400.0\n",
      "15  is  19000.0\n",
      "16  is  -4600.0\n",
      "17  is  -300.0\n",
      "18  is  8800.0\n",
      "19  is  -5450.0\n",
      "20  is  -5650.0\n",
      "21  is  -5650.0\n",
      "22  is  18200.0\n",
      "23  is  -4950.0\n",
      "24  is  -350.0\n",
      "25  is  18350.0\n",
      "26  is  -5750.0\n",
      "27  is  9050.0\n",
      "28  is  -5750.0\n",
      "29  is  -6850.0\n",
      "30  is  -5050.0\n",
      "31  is  -4259.771699999999\n",
      "32  is  -6800.0\n",
      "33  is  19050.0\n",
      "34  is  -6100.0\n",
      "35  is  -6000.0\n",
      "36  is  -6900.0\n",
      "37  is  -5250.0\n",
      "38  is  -600.0\n",
      "39  is  -6650.0\n",
      "40  is  21300.0\n",
      "41  is  -5650.0\n",
      "42  is  -5400.0\n",
      "43  is  20650.0\n",
      "44  is  -5250.0\n",
      "45  is  -550.0\n",
      "46  is  -6700.0\n",
      "47  is  -5450.0\n",
      "48  is  -5500.0\n",
      "49  is  -5550.0\n",
      "50  is  18450.0\n",
      "51  is  -5250.0\n",
      "52  is  -650.0\n",
      "53  is  -6550.0\n",
      "54  is  19350.0\n",
      "55  is  -6000.0\n",
      "56  is  -5850.0\n",
      "57  is  -7050.0\n",
      "58  is  -4700.0\n",
      "59  is  -1597.9353999999996\n",
      "60  is  19950.0\n",
      "61  is  -6150.0\n",
      "62  is  -6200.0\n",
      "63  is  3650.0\n",
      "64  is  -6550.0\n",
      "65  is  -4450.0\n",
      "66  is  -700.0\n",
      "67  is  17950.0\n",
      "68  is  -6000.0\n",
      "69  is  -6050.0\n",
      "70  is  19150.0\n",
      "71  is  -6350.0\n",
      "72  is  -5700.0\n",
      "73  is  -650.0\n",
      "74  is  18300.0\n",
      "75  is  -5900.0\n",
      "76  is  -6000.0\n",
      "77  is  -6000.0\n",
      "78  is  20350.0\n",
      "79  is  -5850.0\n",
      "80  is  -750.0\n",
      "81  is  -6950.0\n",
      "82  is  18850.0\n",
      "83  is  -6000.0\n",
      "84  is  -6050.0\n",
      "85  is  20500.0\n",
      "86  is  -6200.0\n",
      "87  is  -650.0\n",
      "88  is  -6950.0\n",
      "89  is  -6100.0\n",
      "90  is  16896.608600000007\n",
      "91  is  -5900.0\n",
      "92  is  13150.0\n",
      "93  is  -5500.0\n",
      "94  is  -700.0\n",
      "95  is  18000.0\n",
      "96  is  18950.0\n",
      "97  is  18900.0\n",
      "98  is  -6050.0\n",
      "99  is  -6650.0\n",
      "100  is  150.0\n",
      "102  is  -6600.0\n",
      "103  is  -6100.0\n",
      "104  is  -5700.0\n",
      "105  is  -5500.0\n",
      "106  is  -4650.0\n",
      "107  is  -4950.0\n",
      "109  is  -6600.0\n",
      "110  is  -5950.0\n",
      "111  is  -10200.0\n",
      "112  is  -5750.0\n",
      "113  is  -1050.0\n",
      "114  is  -8900.0\n",
      "116  is  18450.0\n",
      "117  is  -5500.0\n",
      "118  is  -6150.0\n",
      "119  is  10200.0\n",
      "120  is  -6670.4306\n",
      "123  is  -4050.0\n",
      "124  is  -5550.0\n",
      "125  is  -5700.0\n",
      "126  is  -5350.0\n",
      "127  is  -6100.0\n",
      "128  is  20200.0\n",
      "130  is  20300.0\n",
      "131  is  16050.0\n",
      "132  is  -10800.0\n",
      "136  is  -2150.0\n",
      "137  is  -6600.0\n",
      "138  is  -5950.0\n",
      "139  is  -5550.0\n",
      "140  is  -5000.0\n",
      "141  is  -5800.0\n",
      "142  is  -4200.0\n",
      "144  is  -5950.0\n",
      "145  is  21200.0\n",
      "146  is  21550.0\n",
      "147  is  -4900.0\n",
      "148  is  -5700.0\n",
      "149  is  -4650.0\n",
      "151  is  -7615.8345\n",
      "152  is  -5400.0\n",
      "153  is  1000.0\n",
      "154  is  -5650.0\n",
      "155  is  -6000.0\n",
      "156  is  -5300.0\n",
      "158  is  -6250.0\n",
      "159  is  19500.0\n",
      "160  is  -5700.0\n",
      "161  is  -5100.0\n",
      "162  is  13800.0\n",
      "163  is  -5400.0\n",
      "165  is  -6250.0\n",
      "166  is  -5450.0\n",
      "167  is  -5800.0\n",
      "168  is  -5350.0\n",
      "169  is  13100.0\n",
      "170  is  -5550.0\n",
      "172  is  13400.0\n",
      "173  is  -6000.0\n",
      "175  is  12850.0\n",
      "176  is  -6350.0\n",
      "177  is  14450.0\n",
      "179  is  -6550.0\n",
      "180  is  -4650.0\n",
      "181  is  7275.531899999996\n",
      "182  is  -5350.0\n",
      "183  is  -5800.0\n",
      "184  is  -5150.0\n",
      "186  is  14850.0\n",
      "187  is  -3050.0\n",
      "188  is  -4600.0\n",
      "189  is  -5250.0\n",
      "190  is  9650.0\n",
      "191  is  -5300.0\n",
      "193  is  -6200.0\n",
      "194  is  10400.0\n",
      "195  is  -5850.0\n",
      "196  is  10000.0\n",
      "197  is  -5950.0\n",
      "198  is  10200.0\n",
      "200  is  -10900.0\n",
      "204  is  -4700.0\n",
      "205  is  -4900.0\n",
      "207  is  -6250.0\n",
      "208  is  12800.0\n",
      "209  is  -5950.0\n",
      "210  is  -5500.0\n",
      "211  is  -9405.962099999995\n",
      "212  is  14800.0\n",
      "214  is  -6100.0\n",
      "215  is  -5350.0\n",
      "216  is  19350.0\n",
      "217  is  -5504.0\n",
      "218  is  19350.0\n",
      "219  is  -5450.0\n",
      "221  is  -8800.0\n",
      "222  is  -5500.0\n",
      "223  is  -5800.0\n",
      "224  is  14500.0\n",
      "225  is  -6000.0\n",
      "226  is  -5350.0\n",
      "228  is  -6250.0\n",
      "229  is  60850.0\n",
      "230  is  -5450.0\n",
      "231  is  -5200.0\n",
      "232  is  16000.0\n",
      "233  is  -4850.0\n",
      "235  is  -5751.0\n",
      "236  is  15950.0\n",
      "237  is  -5300.0\n",
      "238  is  -5000.0\n",
      "239  is  -5500.0\n",
      "240  is  -4800.0\n",
      "242  is  15750.0\n",
      "243  is  -7034.581300000001\n",
      "244  is  -38.62599999999999\n",
      "245  is  -4800.0\n",
      "246  is  13413.832000000002\n",
      "247  is  -4600.0\n",
      "249  is  -5295.2\n",
      "250  is  -5100.0\n",
      "251  is  15776.771000000004\n",
      "252  is  -4900.0\n",
      "253  is  -5296.023\n",
      "254  is  13750.0\n",
      "256  is  -5666.951\n",
      "257  is  -5100.0\n",
      "258  is  -5231.0740000000005\n",
      "259  is  -5000.0\n",
      "260  is  12064.211000000003\n",
      "261  is  -4800.0\n",
      "263  is  7264.576000000001\n",
      "264  is  -5050.0\n",
      "265  is  -5329.48\n",
      "266  is  -4950.0\n",
      "267  is  -5479.726000000001\n",
      "268  is  -4750.0\n",
      "270  is  15484.412000000004\n",
      "271  is  12350.0\n",
      "272  is  -5342.0779999999995\n",
      "273  is  -6394.518\n",
      "274  is  -9584.158\n",
      "275  is  13644.45\n",
      "276  is  -10.24\n",
      "277  is  -5806.567\n",
      "278  is  -5170.864\n",
      "279  is  13091.934999999998\n",
      "280  is  -5019.9439999999995\n",
      "281  is  12617.446000000004\n",
      "282  is  -4924.894\n",
      "284  is  12614.472999999998\n",
      "285  is  -4878.280000000001\n",
      "286  is  -23287.328\n",
      "287  is  -5070.572\n",
      "288  is  -5746.745\n",
      "289  is  13426.600000000002\n",
      "291  is  -5807.923\n",
      "292  is  -5300.0\n",
      "293  is  -5388.8\n",
      "294  is  10900.0\n",
      "295  is  -94.98899999999998\n",
      "296  is  -5056.15\n",
      "298  is  -5899.451\n",
      "299  is  17294.27\n",
      "300  is  -5373.965\n",
      "301  is  -5263.585999999999\n",
      "302  is  -5417.392\n",
      "303  is  -6200.0\n",
      "304  is  -1639.1195000000002\n",
      "305  is  16544.808\n",
      "306  is  -5380.7\n",
      "307  is  19250.0\n",
      "308  is  -5162.884\n",
      "309  is  19058.402\n",
      "310  is  -5150.0\n",
      "312  is  -6228.17\n",
      "313  is  -5185.4\n",
      "314  is  14478.838999999996\n",
      "315  is  -5000.0\n",
      "316  is  -5824.619000000001\n",
      "317  is  -5200.0\n",
      "319  is  -6107.33\n",
      "320  is  -5465.4\n",
      "321  is  -5859.54\n",
      "322  is  2872.9400000000005\n",
      "323  is  -6249.9316\n",
      "324  is  -5550.0\n",
      "326  is  -5346.9\n",
      "327  is  14174.349999999999\n",
      "328  is  -6291.110000000001\n",
      "329  is  -5900.0\n",
      "330  is  7848.739999999996\n",
      "331  is  -6350.0\n",
      "333  is  -7804.41\n",
      "334  is  6772.531200000002\n",
      "335  is  12450.0\n",
      "336  is  -7500.0\n",
      "337  is  15000.0\n",
      "338  is  18050.0\n",
      "340  is  -7950.0\n",
      "341  is  17700.0\n",
      "342  is  19700.0\n",
      "343  is  -7150.0\n",
      "344  is  -8050.0\n",
      "345  is  -7200.0\n",
      "347  is  -7950.0\n",
      "348  is  14669.274000000005\n",
      "349  is  -7659.6\n",
      "350  is  -9150.0\n",
      "351  is  -7423.6720000000005\n",
      "352  is  -5450.0\n",
      "354  is  -8200.0\n",
      "355  is  10650.0\n",
      "356  is  -2650.0\n",
      "357  is  11500.0\n",
      "358  is  -8100.0\n",
      "359  is  -7200.0\n",
      "361  is  -8400.0\n",
      "362  is  17400.0\n",
      "363  is  -7700.0\n",
      "364  is  -7500.0\n",
      "365  is  17736.122799999994\n",
      "368  is  -15950.0\n",
      "369  is  -14850.0\n",
      "370  is  -13860.0\n",
      "371  is  40450.0\n",
      "372  is  -12820.0\n",
      "373  is  -14480.0\n",
      "375  is  -15300.0\n",
      "376  is  36140.0\n",
      "377  is  -14360.0\n",
      "378  is  40620.0\n",
      "379  is  -15994.871999999998\n",
      "380  is  -14200.0\n",
      "382  is  -15100.0\n",
      "383  is  -13600.0\n",
      "384  is  36000.0\n",
      "385  is  -13900.0\n",
      "386  is  -14500.0\n",
      "387  is  96600.0\n",
      "389  is  -14900.0\n",
      "390  is  -13500.0\n",
      "391  is  -14400.0\n",
      "392  is  30600.0\n",
      "393  is  -15300.0\n",
      "394  is  -14200.0\n",
      "396  is  -17466.729400000004\n",
      "397  is  40040.0\n",
      "398  is  -13800.0\n",
      "399  is  39750.0\n",
      "400  is  -14750.0\n",
      "401  is  -14450.0\n",
      "403  is  -15200.0\n",
      "404  is  -13600.0\n",
      "405  is  40250.0\n",
      "406  is  -13380.0\n",
      "407  is  -14120.0\n",
      "408  is  36020.0\n",
      "410  is  -14910.0\n",
      "411  is  47888.041999999994\n",
      "412  is  -13980.0\n",
      "413  is  -13500.0\n",
      "414  is  -23100.0\n",
      "415  is  -13900.0\n",
      "417  is  -15000.0\n",
      "418  is  26000.0\n",
      "419  is  -13900.0\n",
      "420  is  -13300.0\n",
      "421  is  -4600.0\n",
      "422  is  35500.0\n",
      "424  is  -18062.6674\n",
      "425  is  -13400.0\n",
      "426  is  -14100.0\n",
      "427  is  36700.0\n",
      "428  is  -14700.0\n",
      "429  is  -14620.0\n",
      "431  is  -15300.0\n",
      "432  is  34400.0\n",
      "433  is  -15000.0\n",
      "434  is  -15600.0\n",
      "435  is  32900.0\n",
      "436  is  -19200.0\n",
      "438  is  32700.0\n",
      "439  is  -15600.0\n",
      "440  is  33500.0\n",
      "441  is  -15300.0\n",
      "442  is  33200.0\n",
      "443  is  -17097.237999999998\n",
      "445  is  -16200.0\n",
      "446  is  -15180.0\n",
      "447  is  34800.0\n",
      "448  is  75300.0\n",
      "449  is  -15200.0\n",
      "450  is  -14800.0\n",
      "452  is  -15400.0\n",
      "453  is  -14500.0\n",
      "454  is  -14400.0\n",
      "455  is  -17293.284999999993\n",
      "456  is  -14500.0\n",
      "457  is  -13400.0\n",
      "459  is  37000.0\n",
      "460  is  -12300.0\n",
      "461  is  38200.0\n",
      "462  is  -12200.0\n",
      "463  is  38200.0\n",
      "464  is  -12200.0\n",
      "466  is  -12100.0\n",
      "467  is  -11900.0\n",
      "468  is  -12300.0\n",
      "469  is  -11700.0\n",
      "470  is  -12200.0\n",
      "471  is  -12000.0\n",
      "473  is  37300.0\n",
      "474  is  -12000.0\n",
      "475  is  -12000.0\n",
      "476  is  -12100.0\n",
      "477  is  37700.0\n",
      "478  is  -13618.098\n",
      "480  is  87400.0\n",
      "481  is  -12800.0\n",
      "482  is  147800.0\n",
      "483  is  42600.0\n",
      "484  is  41980.0\n",
      "485  is  -16128.717999999993\n",
      "486  is  -19700.0\n",
      "490  is  -13000.0\n",
      "491  is  -13100.0\n",
      "492  is  -12300.0\n",
      "494  is  -13500.0\n",
      "495  is  -12900.0\n",
      "496  is  -12300.0\n",
      "497  is  -12000.0\n",
      "498  is  -12800.0\n",
      "499  is  -12800.0\n",
      "501  is  -13700.0\n",
      "502  is  -13600.0\n",
      "503  is  -13500.0\n",
      "504  is  -13900.0\n",
      "505  is  -13200.0\n",
      "506  is  -13500.0\n",
      "508  is  -14000.0\n",
      "509  is  37000.0\n",
      "510  is  -13300.0\n",
      "511  is  37300.0\n",
      "512  is  118960.0\n",
      "513  is  94500.0\n",
      "515  is  92574.63000000002\n",
      "516  is  -14557.296399999996\n",
      "517  is  -13100.0\n",
      "518  is  -12500.0\n",
      "519  is  -13500.0\n",
      "520  is  -14500.0\n",
      "522  is  -16100.0\n",
      "523  is  -14300.0\n",
      "524  is  -14800.0\n",
      "525  is  -11840.0\n",
      "526  is  -15000.0\n",
      "527  is  -15647.359999999999\n",
      "529  is  -16000.0\n",
      "530  is  -15700.0\n",
      "531  is  -15700.0\n",
      "532  is  38000.0\n",
      "533  is  -16400.0\n",
      "534  is  -15900.0\n",
      "536  is  -17600.0\n",
      "537  is  -16500.0\n",
      "538  is  -16100.0\n",
      "539  is  -16300.0\n",
      "540  is  37700.0\n",
      "541  is  -16500.0\n",
      "543  is  -17600.0\n",
      "544  is  -17300.0\n",
      "545  is  40500.0\n"
     ]
    },
    {
     "name": "stdout",
     "output_type": "stream",
     "text": [
      "546  is  -17685.490600000005\n",
      "547  is  -15800.0\n",
      "548  is  -15800.0\n",
      "550  is  38100.0\n",
      "551  is  -15100.0\n",
      "552  is  39400.0\n",
      "553  is  38900.0\n",
      "554  is  -23500.0\n",
      "559  is  -15300.0\n",
      "560  is  -13200.0\n",
      "561  is  -12520.0\n",
      "562  is  -11800.0\n",
      "564  is  -12900.0\n",
      "565  is  40000.0\n",
      "566  is  -12500.0\n",
      "567  is  -12000.0\n",
      "568  is  -43730.0\n",
      "569  is  -12100.0\n",
      "571  is  -13100.0\n",
      "572  is  -12800.0\n",
      "573  is  -6500.0\n",
      "574  is  96034.98799999997\n",
      "575  is  41579.42999999999\n",
      "576  is  -12100.0\n",
      "577  is  -8269.993999999997\n",
      "578  is  -12300.0\n",
      "579  is  -11300.0\n",
      "580  is  -11700.0\n",
      "581  is  -11400.0\n",
      "582  is  -11200.0\n",
      "583  is  -11400.0\n",
      "585  is  -11900.0\n",
      "586  is  -11200.0\n",
      "587  is  -11500.0\n",
      "588  is  -11100.0\n"
     ]
    }
   ],
   "source": [
    "sum = 0\n",
    "sum_list = np.array([])\n",
    "days = data['day_numbers'].unique()\n",
    "days = np.sort(days)\n",
    "for day in days: #0\n",
    "    for i in range(len(data[data['day_numbers']==day]['day_numbers'])):\n",
    "        sum = sum  + (np.array(data[data['day_numbers'] == day]['Quantity'])[i] * np.array(data[data['day_numbers'] == day]['Type'])[i]) \n",
    "    sum_list = np.append(sum_list, sum)\n",
    "    print(day,' is ', sum)\n",
    "    #Kümülatif toplam için aşağıdaki satırı sil\n",
    "    sum = 0"
   ]
  },
  {
   "cell_type": "markdown",
   "id": "98538a0d",
   "metadata": {},
   "source": [
    "# Günlük  Kümülatif Toplam Un Grafiği"
   ]
  },
  {
   "cell_type": "code",
   "execution_count": 41,
   "id": "5c0957e5",
   "metadata": {
    "scrolled": true
   },
   "outputs": [
    {
     "data": {
      "image/png": "[encoded data removed]",
      "text/plain": [
       "<Figure size 432x288 with 1 Axes>"
      ]
     },
     "metadata": {
      "needs_background": "light"
     },
     "output_type": "display_data"
    },
    {
     "data": {
      "text/plain": [
       "<Figure size 3600x3600 with 0 Axes>"
      ]
     },
     "metadata": {},
     "output_type": "display_data"
    }
   ],
   "source": [
    "sum = 0\n",
    "sum_list = np.array([])\n",
    "days = data['day_numbers'].unique()\n",
    "days = np.sort(days)\n",
    "for day in days:\n",
    "    for i in range(len(data[data['day_numbers']==day]['day_numbers'])):\n",
    "        sum = sum  + (np.array(data[data['day_numbers'] == day]['Quantity'])[i] * np.array(data[data['day_numbers'] == day]['Type'])[i]) \n",
    "    sum_list = np.append(sum_list, sum)\n",
    "sns.scatterplot(x= days, y=sum_list)\n",
    "plt.figure(figsize = (50,50))\n",
    "plt.show()"
   ]
  },
  {
   "cell_type": "markdown",
   "id": "f97f5174",
   "metadata": {},
   "source": [
    "## Cumulative un Toplamının Eklenmesi"
   ]
  },
  {
   "cell_type": "code",
   "execution_count": 42,
   "id": "158a5b8d",
   "metadata": {},
   "outputs": [],
   "source": [
    "sum = 0\n",
    "sum_list = np.array([])\n",
    "data = data.sort_values(by=['day_numbers'])\n",
    "for i in range(len(data['day_numbers'])):\n",
    "    sum = sum  + (np.array(data['Quantity'])[i] * np.array(data['Type'])[i]) \n",
    "    sum_list = np.append(sum_list, sum)\n",
    "data['Cumulative'] = sum_list"
   ]
  },
  {
   "cell_type": "code",
   "execution_count": 43,
   "id": "1518da11",
   "metadata": {},
   "outputs": [],
   "source": [
    "data['FicheNoText'] = data['FicheNoText'].astype(str)"
   ]
  },
  {
   "cell_type": "markdown",
   "id": "27595764",
   "metadata": {},
   "source": [
    "## Sadece Un Verisini Excel ve Csv Dosyalarına Kaydetme"
   ]
  },
  {
   "cell_type": "code",
   "execution_count": 44,
   "id": "3c727040",
   "metadata": {},
   "outputs": [
    {
     "name": "stdout",
     "output_type": "stream",
     "text": [
      "DataFrame is written to Excel File successfully.\n"
     ]
    }
   ],
   "source": [
    "file_name = \"un_2021_2022.xlsx\"\n",
    "data.to_excel(file_name)\n",
    "print('DataFrame is written to Excel File successfully.')"
   ]
  },
  {
   "cell_type": "code",
   "execution_count": 45,
   "id": "d89d0027",
   "metadata": {},
   "outputs": [
    {
     "name": "stdout",
     "output_type": "stream",
     "text": [
      "DataFrame is written to CSV File successfully.\n"
     ]
    }
   ],
   "source": [
    "file_name = \"un_2021_2022.csv\"\n",
    "data.to_csv(file_name)\n",
    "print('DataFrame is written to CSV File successfully.')"
   ]
  },
  {
   "cell_type": "markdown",
   "id": "30a71ca7",
   "metadata": {},
   "source": [
    "# Label Encoder"
   ]
  },
  {
   "cell_type": "code",
   "execution_count": 46,
   "id": "bec40d0f",
   "metadata": {
    "scrolled": true
   },
   "outputs": [
    {
     "data": {
      "text/html": [
       "<div>\n",
       "<style scoped>\n",
       "    .dataframe tbody tr th:only-of-type {\n",
       "        vertical-align: middle;\n",
       "    }\n",
       "\n",
       "    .dataframe tbody tr th {\n",
       "        vertical-align: top;\n",
       "    }\n",
       "\n",
       "    .dataframe thead th {\n",
       "        text-align: right;\n",
       "    }\n",
       "</style>\n",
       "<table border=\"1\" class=\"dataframe\">\n",
       "  <thead>\n",
       "    <tr style=\"text-align: right;\">\n",
       "      <th></th>\n",
       "      <th>BranchId</th>\n",
       "      <th>Type</th>\n",
       "      <th>Quantity</th>\n",
       "      <th>MovementType</th>\n",
       "      <th>FicheNoText</th>\n",
       "      <th>StockLink</th>\n",
       "      <th>day_of_year</th>\n",
       "      <th>day_numbers</th>\n",
       "      <th>month</th>\n",
       "      <th>day_of_month</th>\n",
       "      <th>week_of_year</th>\n",
       "      <th>day_of_week</th>\n",
       "      <th>is_wknd</th>\n",
       "      <th>Cumulative</th>\n",
       "    </tr>\n",
       "  </thead>\n",
       "  <tbody>\n",
       "    <tr>\n",
       "      <th>0</th>\n",
       "      <td>90</td>\n",
       "      <td>1</td>\n",
       "      <td>78850.0</td>\n",
       "      <td>0</td>\n",
       "      <td>1241</td>\n",
       "      <td>18</td>\n",
       "      <td>0</td>\n",
       "      <td>0</td>\n",
       "      <td>12</td>\n",
       "      <td>31</td>\n",
       "      <td>53</td>\n",
       "      <td>3</td>\n",
       "      <td>0</td>\n",
       "      <td>78850.0</td>\n",
       "    </tr>\n",
       "    <tr>\n",
       "      <th>1655</th>\n",
       "      <td>90</td>\n",
       "      <td>-1</td>\n",
       "      <td>2900.0</td>\n",
       "      <td>5</td>\n",
       "      <td>0</td>\n",
       "      <td>1</td>\n",
       "      <td>2</td>\n",
       "      <td>2</td>\n",
       "      <td>1</td>\n",
       "      <td>2</td>\n",
       "      <td>53</td>\n",
       "      <td>5</td>\n",
       "      <td>1</td>\n",
       "      <td>75950.0</td>\n",
       "    </tr>\n",
       "    <tr>\n",
       "      <th>1656</th>\n",
       "      <td>90</td>\n",
       "      <td>-1</td>\n",
       "      <td>1850.0</td>\n",
       "      <td>5</td>\n",
       "      <td>1</td>\n",
       "      <td>2</td>\n",
       "      <td>2</td>\n",
       "      <td>2</td>\n",
       "      <td>1</td>\n",
       "      <td>2</td>\n",
       "      <td>53</td>\n",
       "      <td>5</td>\n",
       "      <td>1</td>\n",
       "      <td>74100.0</td>\n",
       "    </tr>\n",
       "    <tr>\n",
       "      <th>1657</th>\n",
       "      <td>90</td>\n",
       "      <td>-1</td>\n",
       "      <td>100.0</td>\n",
       "      <td>5</td>\n",
       "      <td>61</td>\n",
       "      <td>1</td>\n",
       "      <td>3</td>\n",
       "      <td>3</td>\n",
       "      <td>1</td>\n",
       "      <td>3</td>\n",
       "      <td>53</td>\n",
       "      <td>6</td>\n",
       "      <td>1</td>\n",
       "      <td>74000.0</td>\n",
       "    </tr>\n",
       "    <tr>\n",
       "      <th>1658</th>\n",
       "      <td>90</td>\n",
       "      <td>-1</td>\n",
       "      <td>3550.0</td>\n",
       "      <td>5</td>\n",
       "      <td>2</td>\n",
       "      <td>1</td>\n",
       "      <td>4</td>\n",
       "      <td>4</td>\n",
       "      <td>1</td>\n",
       "      <td>4</td>\n",
       "      <td>1</td>\n",
       "      <td>0</td>\n",
       "      <td>0</td>\n",
       "      <td>70450.0</td>\n",
       "    </tr>\n",
       "  </tbody>\n",
       "</table>\n",
       "</div>"
      ],
      "text/plain": [
       "      BranchId  Type  Quantity  MovementType  FicheNoText  StockLink  \\\n",
       "0           90     1   78850.0             0         1241         18   \n",
       "1655        90    -1    2900.0             5            0          1   \n",
       "1656        90    -1    1850.0             5            1          2   \n",
       "1657        90    -1     100.0             5           61          1   \n",
       "1658        90    -1    3550.0             5            2          1   \n",
       "\n",
       "      day_of_year  day_numbers  month  day_of_month  week_of_year  \\\n",
       "0               0            0     12            31            53   \n",
       "1655            2            2      1             2            53   \n",
       "1656            2            2      1             2            53   \n",
       "1657            3            3      1             3            53   \n",
       "1658            4            4      1             4             1   \n",
       "\n",
       "      day_of_week  is_wknd  Cumulative  \n",
       "0               3        0     78850.0  \n",
       "1655            5        1     75950.0  \n",
       "1656            5        1     74100.0  \n",
       "1657            6        1     74000.0  \n",
       "1658            0        0     70450.0  "
      ]
     },
     "execution_count": 46,
     "metadata": {},
     "output_type": "execute_result"
    }
   ],
   "source": [
    "from sklearn.preprocessing import LabelEncoder\n",
    "le = LabelEncoder()\n",
    "data['MovementType'] = le.fit_transform(data['MovementType'])\n",
    "data['FicheNoText'] = le.fit_transform(data['FicheNoText'])\n",
    "data['StockLink'] = le.fit_transform(data['StockLink'])\n",
    "data['FicheNoText'] = pd.to_numeric(data['FicheNoText'])\n",
    "data.head()"
   ]
  },
  {
   "cell_type": "markdown",
   "id": "61e8404d",
   "metadata": {},
   "source": [
    "Aşağıdaki satır, ols raporunda verilere göre backward elimination yapmak için kullanılabilir."
   ]
  },
  {
   "cell_type": "code",
   "execution_count": 47,
   "id": "0ca4e5c0",
   "metadata": {},
   "outputs": [],
   "source": [
    "#data.drop(labels=['BranchId','Type'], axis = 1, inplace = True)"
   ]
  },
  {
   "cell_type": "markdown",
   "id": "77a09cc7",
   "metadata": {},
   "source": [
    "# Validasyon Seti Son %10"
   ]
  },
  {
   "cell_type": "code",
   "execution_count": 48,
   "id": "d6b281f7",
   "metadata": {},
   "outputs": [],
   "source": [
    "samples_len = len(data) * 0.1\n",
    "sample_data = data.iloc[(-1 * int(samples_len)):-1]\n",
    "data1 = sample_data.iloc[:,0:1]\n",
    "data2 = sample_data.iloc[: ,2:]\n",
    "columns=['BranchId','Quantity','MovementType','FicheNoText','StockLink','day_of_year','day_numbers','month','day_of_month','week_of_year',\n",
    "        'day_of_week','is_wknd','Cumulative']\n",
    "sample_others = pd.concat([data1, data2],ignore_index=True, axis = 1)\n",
    "sample_others.columns = columns\n",
    "data = data.iloc[:(len(data['Type']) - int(samples_len))]\n",
    "#data = data.sort_values(by=['day_numbers'])"
   ]
  },
  {
   "cell_type": "markdown",
   "id": "69679d22",
   "metadata": {},
   "source": [
    "## Standard Scale"
   ]
  },
  {
   "cell_type": "markdown",
   "id": "332a28ac",
   "metadata": {},
   "source": [
    "# Train Test Split"
   ]
  },
  {
   "cell_type": "code",
   "execution_count": 49,
   "id": "b3dd86cf",
   "metadata": {},
   "outputs": [],
   "source": [
    "from sklearn.model_selection import train_test_split"
   ]
  },
  {
   "cell_type": "code",
   "execution_count": 50,
   "id": "e262d6d0",
   "metadata": {},
   "outputs": [],
   "source": [
    "X_train, X_test, y_train, y_test = train_test_split(data.iloc[:, :-1], data.iloc[:, -1], test_size = 0.2)"
   ]
  },
  {
   "cell_type": "markdown",
   "id": "a47720d9",
   "metadata": {},
   "source": [
    "# XG-Boost"
   ]
  },
  {
   "cell_type": "code",
   "execution_count": 51,
   "id": "a2e282f2",
   "metadata": {
    "scrolled": true
   },
   "outputs": [],
   "source": [
    "import xgboost as xgb\n",
    "xgb_model = xgb.XGBRegressor(n_estimators=1000, max_depth=7, eta=0.1, subsample=0.7, colsample_bytree=0.8)\n",
    "xgb_model.fit(X_train, y_train)\n",
    "preds = xgb_model.predict(X_test)"
   ]
  },
  {
   "cell_type": "markdown",
   "id": "67c66cf4",
   "metadata": {},
   "source": [
    "# Light GBM"
   ]
  },
  {
   "cell_type": "code",
   "execution_count": 52,
   "id": "914dff25",
   "metadata": {},
   "outputs": [],
   "source": [
    "import lightgbm as lgb"
   ]
  },
  {
   "cell_type": "code",
   "execution_count": 53,
   "id": "7e30e0a6",
   "metadata": {},
   "outputs": [],
   "source": [
    "lgb_model = lgb.LGBMRegressor(colsample_bytree=1,\n",
    "                             learning_rate=0.01,\n",
    "                             max_depth=9,\n",
    "                             n_estimators = 1500)\n",
    "lgb_model.fit(X_train, y_train)\n",
    "predicts = lgb_model.predict(X_test)"
   ]
  },
  {
   "cell_type": "markdown",
   "id": "b2010913",
   "metadata": {},
   "source": [
    "## Random Forest Regressor"
   ]
  },
  {
   "cell_type": "code",
   "execution_count": 54,
   "id": "6062eba5",
   "metadata": {},
   "outputs": [],
   "source": [
    "from sklearn.ensemble import RandomForestRegressor\n",
    "from sklearn.metrics import mean_squared_error\n",
    "from sklearn.metrics import mean_absolute_error\n",
    "from sklearn.metrics import r2_score"
   ]
  },
  {
   "cell_type": "code",
   "execution_count": 55,
   "id": "d06a31b3",
   "metadata": {},
   "outputs": [],
   "source": [
    "regressor = RandomForestRegressor(n_estimators=1600,\n",
    "                                 min_samples_split=5,\n",
    "                                 min_samples_leaf=1,\n",
    "                                 max_features='auto',\n",
    "                                 max_depth=10,\n",
    "                                 bootstrap=True)\n",
    "regressor.fit(X_train, y_train)\n",
    "rfg_pred = regressor.predict(X_test)"
   ]
  },
  {
   "cell_type": "markdown",
   "id": "c65083c0",
   "metadata": {},
   "source": [
    "# R2 SCORE"
   ]
  },
  {
   "cell_type": "code",
   "execution_count": 56,
   "id": "1716f9df",
   "metadata": {},
   "outputs": [
    {
     "name": "stdout",
     "output_type": "stream",
     "text": [
      "LİGHT-GBM R2 Score:  0.9940059519406398\n",
      "XG-Boost R2 Score:  0.9907343383132406\n",
      "Random Forest Regressor R2 Score:  0.9937166359368123\n"
     ]
    }
   ],
   "source": [
    "print('LİGHT-GBM R2 Score: ',r2_score(y_test, predicts))\n",
    "print('XG-Boost R2 Score: ',r2_score(y_test, preds))\n",
    "print('Random Forest Regressor R2 Score: ',r2_score(y_test, rfg_pred))"
   ]
  },
  {
   "cell_type": "markdown",
   "id": "bb724e81",
   "metadata": {},
   "source": [
    "##  MAE SCORE"
   ]
  },
  {
   "cell_type": "code",
   "execution_count": 57,
   "id": "e8b20e2b",
   "metadata": {
    "scrolled": true
   },
   "outputs": [
    {
     "name": "stdout",
     "output_type": "stream",
     "text": [
      "LİGHT-GBM MAE:  5716.380477817912\n",
      "XG-BOOST MAE:  6030.721053269045\n",
      "Random Forest Regressor MAE:  5702.978781469415\n"
     ]
    }
   ],
   "source": [
    "print('LİGHT-GBM MAE: ',mean_absolute_error(y_test, predicts))\n",
    "print('XG-BOOST MAE: ',mean_absolute_error(y_test, preds))\n",
    "print('Random Forest Regressor MAE: ',mean_absolute_error(y_test, rfg_pred))"
   ]
  },
  {
   "cell_type": "markdown",
   "id": "2548c2ec",
   "metadata": {},
   "source": [
    "# Mean Squared Error"
   ]
  },
  {
   "cell_type": "code",
   "execution_count": 58,
   "id": "09c404c2",
   "metadata": {},
   "outputs": [
    {
     "name": "stdout",
     "output_type": "stream",
     "text": [
      "LİGHT-GBM MSE Score: 8949.656324425381\n",
      "XG-BOOST MSE Score: 11127.16344593293\n",
      "RANDOM FOREST MSE Score: 9163.098600160616\n"
     ]
    }
   ],
   "source": [
    "print('LİGHT-GBM MSE Score:',np.sqrt(mean_squared_error(y_test,predicts)))\n",
    "print('XG-BOOST MSE Score:',np.sqrt(mean_squared_error(y_test,preds)))\n",
    "print('RANDOM FOREST MSE Score:',np.sqrt(mean_squared_error(y_test,rfg_pred)))"
   ]
  },
  {
   "cell_type": "markdown",
   "id": "8f5d53a6",
   "metadata": {},
   "source": [
    "# Classification"
   ]
  },
  {
   "cell_type": "code",
   "execution_count": 59,
   "id": "d69ca4b6",
   "metadata": {},
   "outputs": [],
   "source": [
    "types = data.iloc[:, 1:2]\n",
    "data1 = data.iloc[:,0:1]\n",
    "data2 = data.iloc[: ,2:]\n",
    "columns=['BranchId','Quantity','MovementType','FicheNoText','StockLink','day_of_year','day_numbers','month','day_of_month','week_of_year',\n",
    "        'day_of_week','is_wknd','Cumulative']\n",
    "others = pd.concat([data1, data2],ignore_index=True, axis = 1)\n",
    "others.columns = columns"
   ]
  },
  {
   "cell_type": "code",
   "execution_count": 60,
   "id": "11891158",
   "metadata": {},
   "outputs": [],
   "source": [
    "X_train, X_test, y_train, y_test = train_test_split(others, types, test_size = 0.2)"
   ]
  },
  {
   "cell_type": "code",
   "execution_count": 61,
   "id": "c0ff5d27",
   "metadata": {},
   "outputs": [
    {
     "name": "stdout",
     "output_type": "stream",
     "text": [
      "[13:08:38] WARNING: ..\\src\\learner.cc:1115: Starting in XGBoost 1.3.0, the default evaluation metric used with the objective 'binary:logistic' was changed from 'error' to 'logloss'. Explicitly set eval_metric if you'd like to restore the old behavior.\n"
     ]
    }
   ],
   "source": [
    "import xgboost as xgb\n",
    "xgb_model = xgb.XGBClassifier(n_estimators=1000, max_depth=7, eta=0.1, subsample=0.7, colsample_bytree=0.8)\n",
    "xgb_model.fit(X_train, y_train)\n",
    "preds = xgb_model.predict(X_test)"
   ]
  },
  {
   "cell_type": "code",
   "execution_count": 62,
   "id": "8bbfe4e9",
   "metadata": {},
   "outputs": [],
   "source": [
    "import lightgbm as lgb"
   ]
  },
  {
   "cell_type": "code",
   "execution_count": 63,
   "id": "1ec78b6e",
   "metadata": {},
   "outputs": [],
   "source": [
    "lgb_model = lgb.LGBMClassifier(colsample_bytree=1,\n",
    "                             learning_rate=0.01,\n",
    "                             max_depth=9,\n",
    "                             n_estimators = 1500)\n",
    "lgb_model.fit(X_train, y_train)\n",
    "predicts = lgb_model.predict(X_test)"
   ]
  },
  {
   "cell_type": "code",
   "execution_count": 64,
   "id": "9e47fbe9",
   "metadata": {},
   "outputs": [],
   "source": [
    "from sklearn.ensemble import RandomForestClassifier\n",
    "from sklearn.metrics import accuracy_score"
   ]
  },
  {
   "cell_type": "code",
   "execution_count": 65,
   "id": "edc41cb7",
   "metadata": {},
   "outputs": [],
   "source": [
    "classifier = RandomForestClassifier(n_estimators=1600,\n",
    "                                 min_samples_split=5,\n",
    "                                 min_samples_leaf=1,\n",
    "                                 max_features='auto',\n",
    "                                 max_depth=10,\n",
    "                                 bootstrap=True)\n",
    "classifier.fit(X_train, y_train)\n",
    "cls_pred = classifier.predict(X_test)"
   ]
  },
  {
   "cell_type": "code",
   "execution_count": 66,
   "id": "ef09ab5c",
   "metadata": {
    "scrolled": true
   },
   "outputs": [
    {
     "name": "stdout",
     "output_type": "stream",
     "text": [
      "LİGHT-GBM Accuracy Score:  0.998719590268886\n",
      "XG-Boost Accuracy Score:  0.998719590268886\n",
      "Random Forest Classifier Accuracy Score:  0.998719590268886\n"
     ]
    }
   ],
   "source": [
    "print('LİGHT-GBM Accuracy Score: ',accuracy_score(y_test, predicts))\n",
    "print('XG-Boost Accuracy Score: ',accuracy_score(y_test, preds))\n",
    "print('Random Forest Classifier Accuracy Score: ',accuracy_score(y_test, cls_pred))"
   ]
  },
  {
   "cell_type": "code",
   "execution_count": 67,
   "id": "f68f436e",
   "metadata": {},
   "outputs": [
    {
     "name": "stdout",
     "output_type": "stream",
     "text": [
      "Alınan miktar :  27000.0 | Gün:  532 index 3333 | Önceki Miktar: 339083.70559999975 | Sonraki Miktar: 366083.70559999975\n",
      "Alınan miktar :  27000.0 | Gün:  532 index 2317 | Önceki Miktar: 355383.70559999975 | Sonraki Miktar: 382383.70559999975\n",
      "Alınan miktar :  27000.0 | Gün:  540 index 2365 | Önceki Miktar: 283583.70559999975 | Sonraki Miktar: 310583.70559999975\n",
      "Alınan miktar :  27000.0 | Gün:  540 index 3381 | Önceki Miktar: 299483.70559999975 | Sonraki Miktar: 326483.70559999975\n",
      "Alınan miktar :  27000.0 | Gün:  545 index 3334 | Önceki Miktar: 269883.70559999975 | Sonraki Miktar: 296883.70559999975\n",
      "Alınan miktar :  27000.0 | Gün:  545 index 2318 | Önceki Miktar: 285583.70559999975 | Sonraki Miktar: 312583.70559999975\n",
      "Alınan miktar :  27000.0 | Gün:  550 index 2350 | Önceki Miktar: 256248.21499999997 | Sonraki Miktar: 283248.21499999997\n",
      "Alınan miktar :  27000.0 | Gün:  550 index 3366 | Önceki Miktar: 280148.21499999997 | Sonraki Miktar: 307148.21499999997\n",
      "Alınan miktar :  27000.0 | Gün:  552 index 2338 | Önceki Miktar: 278798.21499999997 | Sonraki Miktar: 305798.21499999997\n",
      "Alınan miktar :  27000.0 | Gün:  552 index 3354 | Önceki Miktar: 296498.21499999997 | Sonraki Miktar: 323498.21499999997\n",
      "Alınan miktar :  26500.0 | Gün:  553 index 2351 | Önceki Miktar: 318698.21499999997 | Sonraki Miktar: 345198.21499999997\n",
      "Alınan miktar :  26500.0 | Gün:  553 index 3367 | Önceki Miktar: 340548.21499999997 | Sonraki Miktar: 367048.21499999997\n",
      "Alınan miktar :  26500.0 | Gün:  565 index 3335 | Önceki Miktar: 260178.21499999997 | Sonraki Miktar: 286678.21499999997\n",
      "Alınan miktar :  26500.0 | Gün:  565 index 2319 | Önceki Miktar: 286678.21499999997 | Sonraki Miktar: 313178.21499999997\n",
      "Alınan miktar :  3000.0 | Gün:  573 index 2320 | Önceki Miktar: 202898.21499999997 | Sonraki Miktar: 205898.21499999997\n",
      "Alınan miktar :  3000.0 | Gün:  573 index 3336 | Önceki Miktar: 201848.21499999997 | Sonraki Miktar: 204848.21499999997\n",
      "Alınan miktar :  27000.0 | Gün:  574 index 3337 | Önceki Miktar: 194598.21499999997 | Sonraki Miktar: 221598.21499999997\n",
      "Alınan miktar :  27000.0 | Gün:  574 index 3355 | Önceki Miktar: 221591.80899999998 | Sonraki Miktar: 248591.80899999998\n",
      "Alınan miktar :  27000.0 | Gün:  574 index 2339 | Önceki Miktar: 242605.13300000003 | Sonraki Miktar: 269605.13300000003\n",
      "Alınan miktar :  27000.0 | Gün:  574 index 2321 | Önceki Miktar: 269601.83300000004 | Sonraki Miktar: 296601.83300000004\n",
      "Alınan miktar :  27000.0 | Gün:  575 index 2340 | Önceki Miktar: 296483.2030000001 | Sonraki Miktar: 323483.2030000001\n",
      "Alınan miktar :  27000.0 | Gün:  575 index 3356 | Önceki Miktar: 311148.578 | Sonraki Miktar: 338148.578\n"
     ]
    }
   ],
   "source": [
    "for i in range(len(sample_data['Cumulative']) - 1):\n",
    "    if sample_data['Cumulative'].iloc[i + 1] > sample_data['Cumulative'].iloc[i]:\n",
    "        print('Alınan miktar : ', (np.abs(sample_data['Cumulative'].iloc[i + 1] - sample_data['Cumulative'].iloc[i])), \n",
    "              '| Gün: ', sample_data['day_numbers'].iloc[i + 1],\n",
    "             'index',sample_data.index[i + 1],\n",
    "             '| Önceki Miktar:',sample_data['Cumulative'].iloc[i],\n",
    "             '| Sonraki Miktar:',sample_data['Cumulative'].iloc[i +1])    "
   ]
  },
  {
   "cell_type": "code",
   "execution_count": 68,
   "id": "87247584",
   "metadata": {},
   "outputs": [
    {
     "name": "stdout",
     "output_type": "stream",
     "text": [
      "Alınan miktar:  1407.144072277566 |Gün: 532 |index: 3333 |Önceki Miktar: 33779.24071674934 |Sonraki Miktar: 35186.3847890269\n",
      "Alınan miktar:  1408.2447921213534 |Gün: 532 |index: 2317 |Önceki Miktar: 33779.24071674934 |Sonraki Miktar: 35187.48550887069\n",
      "Alınan miktar:  1333.3588476286677 |Gün: 540 |index: 2365 |Önceki Miktar: 34479.70027212254 |Sonraki Miktar: 35813.05911975121\n",
      "Alınan miktar:  1333.3588476286677 |Gün: 540 |index: 3381 |Önceki Miktar: 34479.70027212254 |Sonraki Miktar: 35813.05911975121\n",
      "Alınan miktar:  1348.164590426779 |Gün: 545 |index: 3334 |Önceki Miktar: 34461.13706338293 |Sonraki Miktar: 35809.30165380971\n",
      "Alınan miktar:  1348.164590426779 |Gün: 545 |index: 2318 |Önceki Miktar: 34461.13706338293 |Sonraki Miktar: 35809.30165380971\n",
      "Alınan miktar:  1448.6254314420585 |Gün: 550 |index: 2350 |Önceki Miktar: 34016.13676453373 |Sonraki Miktar: 35464.76219597579\n",
      "Alınan miktar:  1448.6254314420585 |Gün: 550 |index: 3366 |Önceki Miktar: 34016.13676453373 |Sonraki Miktar: 35464.76219597579\n",
      "Alınan miktar:  1350.969306188541 |Gün: 552 |index: 2338 |Önceki Miktar: 33757.42282503222 |Sonraki Miktar: 35108.39213122076\n",
      "Alınan miktar:  1350.969306188541 |Gün: 552 |index: 3354 |Önceki Miktar: 33757.42282503222 |Sonraki Miktar: 35108.39213122076\n",
      "Alınan miktar:  1350.969306188541 |Gün: 553 |index: 2351 |Önceki Miktar: 33757.42282503222 |Sonraki Miktar: 35108.39213122076\n",
      "Alınan miktar:  1350.969306188541 |Gün: 553 |index: 3367 |Önceki Miktar: 33757.42282503222 |Sonraki Miktar: 35108.39213122076\n",
      "Alınan miktar:  1300.2762173471347 |Gün: 565 |index: 2319 |Önceki Miktar: 33698.0660459789 |Sonraki Miktar: 34998.342263326034\n",
      "Alınan miktar:  1361.6262276584166 |Gün: 573 |index: 2320 |Önceki Miktar: 33572.888941624755 |Sonraki Miktar: 34934.51516928317\n",
      "Alınan miktar:  1361.6262276584166 |Gün: 573 |index: 3336 |Önceki Miktar: 33572.888941624755 |Sonraki Miktar: 34934.51516928317\n"
     ]
    }
   ],
   "source": [
    "regressor2 = RandomForestRegressor(n_estimators=1600,\n",
    "                                 min_samples_split=5,\n",
    "                                 min_samples_leaf=1,\n",
    "                                 max_features='auto',\n",
    "                                 max_depth=10,\n",
    "                                 bootstrap=True)\n",
    "regressor2.fit(data.iloc[:, :-1], data.iloc[:, -1])\n",
    "rfg_pred = regressor2.predict(sample_others)\n",
    "cls_pred = classifier.predict(sample_others)\n",
    "for i in range(len(rfg_pred) - 1):\n",
    "    if (cls_pred[i] == 1) & (rfg_pred[i + 1] > rfg_pred[i]):\n",
    "            print('Alınan miktar: ',(rfg_pred[i + 1] - rfg_pred[i]), \n",
    "                  '|Gün:', sample_data['day_numbers'].iloc[i],\n",
    "                  '|index:',sample_data.index[i],\n",
    "                 '|Önceki Miktar:',rfg_pred[i], \n",
    "                  '|Sonraki Miktar:', rfg_pred[i + 1])"
   ]
  },
  {
   "cell_type": "markdown",
   "id": "e692839f",
   "metadata": {},
   "source": [
    "# Son %10'luk kısım predict"
   ]
  },
  {
   "cell_type": "code",
   "execution_count": 69,
   "id": "78b0ab0a",
   "metadata": {},
   "outputs": [],
   "source": [
    "samples_len = len(data) * 0.1\n",
    "sample_data = data.iloc[(-1 * int(samples_len)):-1]\n",
    "data1 = sample_data.iloc[:,0:1]\n",
    "data2 = sample_data.iloc[: ,2:]\n",
    "columns=['BranchId','Quantity','MovementType','FicheNoText','StockLink','day_of_year','day_numbers','month','day_of_month','week_of_year',\n",
    "        'day_of_week','is_wknd','Cumulative']\n",
    "sample_others = pd.concat([data1, data2],ignore_index=True, axis = 1)\n",
    "sample_others.columns = columns\n",
    "data = data.iloc[:(len(data['Type']) - int(samples_len))]\n",
    "#data = data.sort_values(by=['day_numbers'])"
   ]
  },
  {
   "cell_type": "markdown",
   "id": "f0147975",
   "metadata": {},
   "source": [
    "## Orjinal Kümülatif Veriler Üzerinden Kontrol Etmek"
   ]
  },
  {
   "cell_type": "code",
   "execution_count": 70,
   "id": "63ec69b0",
   "metadata": {
    "scrolled": true
   },
   "outputs": [
    {
     "name": "stdout",
     "output_type": "stream",
     "text": [
      "Alınan miktar :  25000.0 | Gün:  509 index 2313 | Önceki Miktar: 180593.73200000013 | Sonraki Miktar: 205593.73200000013\n",
      "Alınan miktar :  25000.0 | Gün:  509 index 3329 | Önceki Miktar: 194543.73200000013 | Sonraki Miktar: 219543.73200000013\n",
      "Alınan miktar :  25000.0 | Gün:  511 index 3352 | Önceki Miktar: 204293.73200000013 | Sonraki Miktar: 229293.73200000013\n",
      "Alınan miktar :  25000.0 | Gün:  511 index 2336 | Önceki Miktar: 216593.73200000013 | Sonraki Miktar: 241593.73200000013\n",
      "Alınan miktar :  27000.0 | Gün:  512 index 2337 | Önceki Miktar: 241593.73200000013 | Sonraki Miktar: 268593.73200000013\n",
      "Alınan miktar :  27000.0 | Gün:  512 index 3379 | Önceki Miktar: 249123.73200000013 | Sonraki Miktar: 276123.73200000013\n",
      "Alınan miktar :  27000.0 | Gün:  512 index 3330 | Önceki Miktar: 276123.73200000013 | Sonraki Miktar: 303123.73200000013\n",
      "Alınan miktar :  27000.0 | Gün:  512 index 2314 | Önceki Miktar: 281603.73200000013 | Sonraki Miktar: 308603.73200000013\n",
      "Alınan miktar :  27000.0 | Gün:  512 index 3353 | Önceki Miktar: 308603.73200000013 | Sonraki Miktar: 335603.73200000013\n",
      "Alınan miktar :  27000.0 | Gün:  512 index 2363 | Önceki Miktar: 333553.73200000013 | Sonraki Miktar: 360553.73200000013\n",
      "Alınan miktar :  27000.0 | Gün:  513 index 3331 | Önceki Miktar: 353803.73200000013 | Sonraki Miktar: 380803.73200000013\n",
      "Alınan miktar :  27000.0 | Gün:  513 index 3380 | Önceki Miktar: 374053.73200000013 | Sonraki Miktar: 401053.73200000013\n",
      "Alınan miktar :  27000.0 | Gün:  513 index 2364 | Önceki Miktar: 401053.73200000013 | Sonraki Miktar: 428053.73200000013\n",
      "Alınan miktar :  27000.0 | Gün:  513 index 2315 | Önceki Miktar: 428053.73200000013 | Sonraki Miktar: 455053.73200000013\n",
      "Alınan miktar :  27000.0 | Gün:  515 index 2349 | Önceki Miktar: 447904.91600000014 | Sonraki Miktar: 474904.91600000014\n",
      "Alınan miktar :  27000.0 | Gün:  515 index 3332 | Önceki Miktar: 467265.0539999999 | Sonraki Miktar: 494265.0539999999\n",
      "Alınan miktar :  27000.0 | Gün:  515 index 3365 | Önceki Miktar: 493913.6319999998 | Sonraki Miktar: 520913.6319999998\n",
      "Alınan miktar :  26999.99999999994 | Gün:  515 index 2316 | Önceki Miktar: 520628.3619999998 | Sonraki Miktar: 547628.3619999997\n"
     ]
    }
   ],
   "source": [
    "for i in range(len(sample_data['Cumulative']) - 1):\n",
    "    if sample_data['Cumulative'].iloc[i + 1] > sample_data['Cumulative'].iloc[i]:\n",
    "        print('Alınan miktar : ', (np.abs(sample_data['Cumulative'].iloc[i + 1] - sample_data['Cumulative'].iloc[i])), \n",
    "              '| Gün: ', sample_data['day_numbers'].iloc[i + 1],\n",
    "             'index',sample_data.index[i + 1],\n",
    "             '| Önceki Miktar:',sample_data['Cumulative'].iloc[i],\n",
    "             '| Sonraki Miktar:',sample_data['Cumulative'].iloc[i +1])              "
   ]
  },
  {
   "cell_type": "markdown",
   "id": "ed04f661",
   "metadata": {},
   "source": [
    "## Makine Öğrenmesi Verileri Üzerinden Kontrol Etmek"
   ]
  },
  {
   "cell_type": "code",
   "execution_count": 71,
   "id": "ec6f240b",
   "metadata": {},
   "outputs": [
    {
     "name": "stdout",
     "output_type": "stream",
     "text": [
      "Alınan miktar:  2805.6314054885697 |Gün: 509 |index: 2313 |Önceki Miktar: 32752.4899954982 |Sonraki Miktar: 35558.12140098677\n",
      "Alınan miktar:  2805.6314054885697 |Gün: 509 |index: 3329 |Önceki Miktar: 32752.4899954982 |Sonraki Miktar: 35558.12140098677\n",
      "Alınan miktar:  2841.707700170391 |Gün: 511 |index: 3352 |Önceki Miktar: 32559.952746107363 |Sonraki Miktar: 35401.660446277754\n",
      "Alınan miktar:  14.720134674680594 |Gün: 511 |index: 2336 |Önceki Miktar: 32559.952746107363 |Sonraki Miktar: 32574.672880782044\n",
      "Alınan miktar:  2830.504895683207 |Gün: 512 |index: 2337 |Önceki Miktar: 32574.672880782044 |Sonraki Miktar: 35405.17777646525\n",
      "Alınan miktar:  2830.504895683207 |Gün: 512 |index: 3330 |Önceki Miktar: 32574.672880782044 |Sonraki Miktar: 35405.17777646525\n",
      "Alınan miktar:  2830.504895683207 |Gün: 512 |index: 3353 |Önceki Miktar: 32574.672880782044 |Sonraki Miktar: 35405.17777646525\n",
      "Alınan miktar:  3303.5718129381603 |Gün: 512 |index: 2363 |Önceki Miktar: 32574.672880782044 |Sonraki Miktar: 35878.244693720204\n",
      "Alınan miktar:  2821.494391261629 |Gün: 513 |index: 3331 |Önceki Miktar: 33056.750302458575 |Sonraki Miktar: 35878.244693720204\n",
      "Alınan miktar:  2475.6637181392 |Gün: 513 |index: 2315 |Önceki Miktar: 33056.750302458575 |Sonraki Miktar: 35532.414020597775\n"
     ]
    }
   ],
   "source": [
    "regressor2 = RandomForestRegressor(n_estimators=1600,\n",
    "                                 min_samples_split=5,\n",
    "                                 min_samples_leaf=1,\n",
    "                                 max_features='auto',\n",
    "                                 max_depth=10,\n",
    "                                 bootstrap=True)\n",
    "regressor2.fit(data.iloc[:, :-1], data.iloc[:, -1])\n",
    "rfg_pred = regressor2.predict(sample_others)\n",
    "cls_pred = classifier.predict(sample_others)\n",
    "for i in range(len(rfg_pred) - 1):\n",
    "    if (cls_pred[i] == 1) & (rfg_pred[i + 1] > rfg_pred[i]):\n",
    "            print('Alınan miktar: ',(rfg_pred[i + 1] - rfg_pred[i]), \n",
    "                  '|Gün:', sample_data['day_numbers'].iloc[i],\n",
    "                  '|index:',sample_data.index[i],\n",
    "                 '|Önceki Miktar:',rfg_pred[i], \n",
    "                  '|Sonraki Miktar:', rfg_pred[i + 1])"
   ]
  },
  {
   "cell_type": "code",
   "execution_count": 72,
   "id": "003e9dfa",
   "metadata": {},
   "outputs": [
    {
     "name": "stdout",
     "output_type": "stream",
     "text": [
      "Random Forest Regressor R2 Score:  -15.00430356670056\n",
      "Random Forest Regressor MAE:  387311.7554411764\n",
      "RANDOM FOREST MSE Score: 400192.1825533203\n",
      "Random Forest Classifier Accuracy Score:  1.0\n"
     ]
    }
   ],
   "source": [
    "print('Random Forest Regressor R2 Score: ',r2_score(sample_data.iloc[:, -1], rfg_pred))\n",
    "print('Random Forest Regressor MAE: ',mean_absolute_error(sample_data.iloc[:, -1], rfg_pred))\n",
    "print('RANDOM Forest MSE Score:',np.sqrt(mean_squared_error(sample_data.iloc[:, -1],rfg_pred)))\n",
    "print('Random Forest Classifier Accuracy Score: ',accuracy_score(sample_data.iloc[:, 1:2], cls_pred))"
   ]
  },
  {
   "cell_type": "markdown",
   "id": "1ab8e2a4",
   "metadata": {},
   "source": [
    "## Backward Elimination"
   ]
  },
  {
   "cell_type": "code",
   "execution_count": 73,
   "id": "37773c00",
   "metadata": {},
   "outputs": [],
   "source": [
    "import statsmodels.api as sm "
   ]
  },
  {
   "cell_type": "code",
   "execution_count": 74,
   "id": "bac76819",
   "metadata": {},
   "outputs": [],
   "source": [
    "r_ols = sm.OLS(endog=data.iloc[:, -1], exog=data.iloc[:, :-1])\n",
    "r = r_ols.fit()"
   ]
  },
  {
   "cell_type": "code",
   "execution_count": 75,
   "id": "6987d019",
   "metadata": {},
   "outputs": [
    {
     "name": "stdout",
     "output_type": "stream",
     "text": [
      "                                 OLS Regression Results                                \n",
      "=======================================================================================\n",
      "Dep. Variable:             Cumulative   R-squared (uncentered):                   0.786\n",
      "Model:                            OLS   Adj. R-squared (uncentered):              0.786\n",
      "Method:                 Least Squares   F-statistic:                              990.8\n",
      "Date:                Fri, 26 Aug 2022   Prob (F-statistic):                        0.00\n",
      "Time:                        13:08:59   Log-Likelihood:                         -42893.\n",
      "No. Observations:                3512   AIC:                                  8.581e+04\n",
      "Df Residuals:                    3499   BIC:                                  8.589e+04\n",
      "Df Model:                          13                                                  \n",
      "Covariance Type:            nonrobust                                                  \n",
      "================================================================================\n",
      "                   coef    std err          t      P>|t|      [0.025      0.975]\n",
      "--------------------------------------------------------------------------------\n",
      "BranchId       -88.0140     54.977     -1.601      0.109    -195.805      19.777\n",
      "Type          2.285e+04   5552.543      4.115      0.000     1.2e+04    3.37e+04\n",
      "Quantity         0.2493      0.262      0.952      0.341      -0.264       0.762\n",
      "MovementType  5161.5770   2263.857      2.280      0.023     722.964    9600.190\n",
      "FicheNoText    -36.8006      5.137     -7.164      0.000     -46.873     -26.728\n",
      "StockLink       12.9567    408.442      0.032      0.975    -787.851     813.765\n",
      "day_of_year   -482.4745    136.380     -3.538      0.000    -749.866    -215.083\n",
      "day_numbers    367.0919     12.795     28.690      0.000     342.006     392.178\n",
      "month         9599.1616   4661.117      2.059      0.040     460.378    1.87e+04\n",
      "day_of_month   472.6056    168.988      2.797      0.005     141.281     803.931\n",
      "week_of_year   356.5899    533.507      0.668      0.504    -689.426    1402.606\n",
      "day_of_week   -250.2983    615.900     -0.406      0.684   -1457.858     957.261\n",
      "is_wknd       3.266e+04   3062.542     10.664      0.000    2.67e+04    3.87e+04\n",
      "==============================================================================\n",
      "Omnibus:                     2366.487   Durbin-Watson:                   0.040\n",
      "Prob(Omnibus):                  0.000   Jarque-Bera (JB):            32709.189\n",
      "Skew:                           3.083   Prob(JB):                         0.00\n",
      "Kurtosis:                      16.620   Cond. No.                     3.92e+04\n",
      "==============================================================================\n",
      "\n",
      "Notes:\n",
      "[1] R² is computed without centering (uncentered) since the model does not contain a constant.\n",
      "[2] Standard Errors assume that the covariance matrix of the errors is correctly specified.\n",
      "[3] The condition number is large, 3.92e+04. This might indicate that there are\n",
      "strong multicollinearity or other numerical problems.\n"
     ]
    }
   ],
   "source": [
    "print(r.summary())"
   ]
  },
  {
   "cell_type": "markdown",
   "id": "3c001ac9",
   "metadata": {},
   "source": [
    "##### Üstekki raporda p değerine bakarak genelde 0.05'in üstünde olan columnları atabilirsin."
   ]
  },
  {
   "cell_type": "markdown",
   "id": "71c04857",
   "metadata": {},
   "source": [
    "## GridSearch & RandomizedSearchCV"
   ]
  },
  {
   "cell_type": "code",
   "execution_count": 76,
   "id": "cd2cbf42",
   "metadata": {},
   "outputs": [],
   "source": [
    "#from sklearn.model_selection import GridSearchCV"
   ]
  },
  {
   "cell_type": "code",
   "execution_count": 77,
   "id": "afcf6fe9",
   "metadata": {},
   "outputs": [
    {
     "data": {
      "text/plain": [
       "'\\nlgbm_params={ \"colsample_bytree\" : [0.1 , 0.2 , 0.3 , 0.4 , 0.5 , 0.6 , 0.9 , 1] ,\\n              \"n_estimators\" : [100 , 500, 1000, 1500 , 10000] , \\n              \"max_depth\" : [ 2 , 3 , 4 , 5 , 6 , 7 , 8 , 9 , 10 ] , \\n              \"learning_rate\" : [0,5, 0.1 , 0.01]}       \\n'"
      ]
     },
     "execution_count": 77,
     "metadata": {},
     "output_type": "execute_result"
    }
   ],
   "source": [
    "'''\n",
    "lgbm_params={ \"colsample_bytree\" : [0.1 , 0.2 , 0.3 , 0.4 , 0.5 , 0.6 , 0.9 , 1] ,\n",
    "              \"n_estimators\" : [100 , 500, 1000, 1500 , 10000] , \n",
    "              \"max_depth\" : [ 2 , 3 , 4 , 5 , 6 , 7 , 8 , 9 , 10 ] , \n",
    "              \"learning_rate\" : [0,5, 0.1 , 0.01]}       \n",
    "'''"
   ]
  },
  {
   "cell_type": "code",
   "execution_count": 78,
   "id": "3dbdb2aa",
   "metadata": {},
   "outputs": [
    {
     "data": {
      "text/plain": [
       "'\\nlgbm_cv_model=GridSearchCV(lgb_model ,\\n                           lgbm_params , \\n                           cv=10 ,\\n                           n_jobs=-1,\\n                           verbose=2)\\n'"
      ]
     },
     "execution_count": 78,
     "metadata": {},
     "output_type": "execute_result"
    }
   ],
   "source": [
    "'''\n",
    "lgbm_cv_model=GridSearchCV(lgb_model ,\n",
    "                           lgbm_params , \n",
    "                           cv=10 ,\n",
    "                           n_jobs=-1,\n",
    "                           verbose=2)\n",
    "'''"
   ]
  },
  {
   "cell_type": "code",
   "execution_count": 79,
   "id": "49f896cb",
   "metadata": {},
   "outputs": [],
   "source": [
    "#lgbm_cv_model.fit(X_train , y_train)"
   ]
  },
  {
   "cell_type": "code",
   "execution_count": 80,
   "id": "410e825c",
   "metadata": {},
   "outputs": [],
   "source": [
    "#lgbm_cv_model.best_params_ "
   ]
  },
  {
   "cell_type": "code",
   "execution_count": 81,
   "id": "a4eff152",
   "metadata": {},
   "outputs": [
    {
     "data": {
      "text/plain": [
       "\"\\nfrom sklearn.model_selection import RandomizedSearchCV\\n# Number of trees in random forest\\nn_estimators = [int(x) for x in np.linspace(start = 200, stop = 2000, num = 10)]\\n# Number of features to consider at every split\\nmax_features = ['auto', 'sqrt']\\n# Maximum number of levels in tree\\nmax_depth = [int(x) for x in np.linspace(10, 110, num = 11)]\\nmax_depth.append(None)\\n# Minimum number of samples required to split a node\\nmin_samples_split = [2, 5, 10]\\n# Minimum number of samples required at each leaf node\\nmin_samples_leaf = [1, 2, 4]\\n# Method of selecting samples for training each tree\\nbootstrap = [True, False]\\n# Create the random grid\\nrandom_grid = {'n_estimators': n_estimators,\\n               'max_features': max_features,\\n               'max_depth': max_depth,\\n               'min_samples_split': min_samples_split,\\n               'min_samples_leaf': min_samples_leaf,\\n               'bootstrap': bootstrap}\\n\""
      ]
     },
     "execution_count": 81,
     "metadata": {},
     "output_type": "execute_result"
    }
   ],
   "source": [
    "'''\n",
    "from sklearn.model_selection import RandomizedSearchCV\n",
    "# Number of trees in random forest\n",
    "n_estimators = [int(x) for x in np.linspace(start = 200, stop = 2000, num = 10)]\n",
    "# Number of features to consider at every split\n",
    "max_features = ['auto', 'sqrt']\n",
    "# Maximum number of levels in tree\n",
    "max_depth = [int(x) for x in np.linspace(10, 110, num = 11)]\n",
    "max_depth.append(None)\n",
    "# Minimum number of samples required to split a node\n",
    "min_samples_split = [2, 5, 10]\n",
    "# Minimum number of samples required at each leaf node\n",
    "min_samples_leaf = [1, 2, 4]\n",
    "# Method of selecting samples for training each tree\n",
    "bootstrap = [True, False]\n",
    "# Create the random grid\n",
    "random_grid = {'n_estimators': n_estimators,\n",
    "               'max_features': max_features,\n",
    "               'max_depth': max_depth,\n",
    "               'min_samples_split': min_samples_split,\n",
    "               'min_samples_leaf': min_samples_leaf,\n",
    "               'bootstrap': bootstrap}\n",
    "'''"
   ]
  },
  {
   "cell_type": "code",
   "execution_count": 82,
   "id": "615797ca",
   "metadata": {},
   "outputs": [
    {
     "data": {
      "text/plain": [
       "'\\n# Use the random grid to search for best hyperparameters\\n# First create the base model to tune\\n# Random search of parameters, using 3 fold cross validation, \\n# search across 100 different combinations, and use all available cores\\nrf_random = RandomizedSearchCV(estimator = regressor, param_distributions = random_grid, n_iter = 100, cv = 3, verbose=2, random_state=42, n_jobs = -1)\\n# Fit the random search model\\nrf_random.fit(X_train, y_train)\\n'"
      ]
     },
     "execution_count": 82,
     "metadata": {},
     "output_type": "execute_result"
    }
   ],
   "source": [
    "'''\n",
    "# Use the random grid to search for best hyperparameters\n",
    "# First create the base model to tune\n",
    "# Random search of parameters, using 3 fold cross validation, \n",
    "# search across 100 different combinations, and use all available cores\n",
    "rf_random = RandomizedSearchCV(estimator = regressor, param_distributions = random_grid, n_iter = 100, cv = 3, verbose=2, random_state=42, n_jobs = -1)\n",
    "# Fit the random search model\n",
    "rf_random.fit(X_train, y_train)\n",
    "'''"
   ]
  },
  {
   "cell_type": "code",
   "execution_count": 83,
   "id": "46f2b60b",
   "metadata": {},
   "outputs": [],
   "source": [
    "#rf_random.best_params_"
   ]
  },
  {
   "cell_type": "markdown",
   "id": "ae549ea4",
   "metadata": {},
   "source": [
    "## Anlık yakalanan en iyi Hiperparametreler"
   ]
  },
  {
   "cell_type": "markdown",
   "id": "4dbbdc82",
   "metadata": {},
   "source": [
    "Random Forest = {'n_estimators': 1600,\n",
    " 'min_samples_split': 5,\n",
    " 'min_samples_leaf': 1,\n",
    " 'max_features': 'auto',\n",
    " 'max_depth': 10,\n",
    " 'bootstrap': True}\n",
    " \n",
    "LİGHT-GBM = {'colsample_bytree': 1,\n",
    " 'learning_rate': 0.01,\n",
    " 'max_depth': 9,\n",
    " 'n_estimators': 1500}"
   ]
  },
  {
   "cell_type": "markdown",
   "id": "f6306769",
   "metadata": {},
   "source": [
    "## Cross Validation"
   ]
  },
  {
   "cell_type": "code",
   "execution_count": 89,
   "id": "c6dd6bde",
   "metadata": {},
   "outputs": [],
   "source": [
    "from sklearn.model_selection import cross_val_score"
   ]
  },
  {
   "cell_type": "code",
   "execution_count": 90,
   "id": "e122c818",
   "metadata": {},
   "outputs": [
    {
     "name": "stdout",
     "output_type": "stream",
     "text": [
      "[-16601.81176629 -16972.22944698 -18810.49889036 -16984.11176761\n",
      " -69055.36344737]\n"
     ]
    }
   ],
   "source": [
    "print(cross_val_score(regressor,data.iloc[:, :-1], data['Cumulative'], scoring = 'neg_mean_absolute_error', cv = 5))"
   ]
  },
  {
   "cell_type": "code",
   "execution_count": 91,
   "id": "f1377801",
   "metadata": {},
   "outputs": [
    {
     "name": "stdout",
     "output_type": "stream",
     "text": [
      "[nan nan nan nan nan]\n"
     ]
    }
   ],
   "source": [
    "print(cross_val_score(lgb_model,others, others , scoring = 'neg_mean_absolute_error', cv = 5))"
   ]
  },
  {
   "cell_type": "code",
   "execution_count": 92,
   "id": "cf4f8a08",
   "metadata": {},
   "outputs": [
    {
     "name": "stdout",
     "output_type": "stream",
     "text": [
      "[nan nan nan nan nan]\n"
     ]
    }
   ],
   "source": [
    "print(cross_val_score(xgb_model,others,others , scoring = 'neg_mean_absolute_error', cv = 5))"
   ]
  }
 ],
 "metadata": {
  "kernelspec": {
   "display_name": "Python 3 (ipykernel)",
   "language": "python",
   "name": "python3"
  },
  "language_info": {
   "codemirror_mode": {
    "name": "ipython",
    "version": 3
   },
   "file_extension": ".py",
   "mimetype": "text/x-python",
   "name": "python",
   "nbconvert_exporter": "python",
   "pygments_lexer": "ipython3",
   "version": "3.9.7"
  }
 },
 "nbformat": 4,
 "nbformat_minor": 5
}
